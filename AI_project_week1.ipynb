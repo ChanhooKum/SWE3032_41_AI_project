{
  "nbformat": 4,
  "nbformat_minor": 0,
  "metadata": {
    "colab": {
      "provenance": [],
      "toc_visible": true,
      "include_colab_link": true
    },
    "kernelspec": {
      "name": "python3",
      "display_name": "Python 3"
    },
    "language_info": {
      "name": "python"
    },
    "gpuClass": "standard"
  },
  "cells": [
    {
      "cell_type": "markdown",
      "metadata": {
        "id": "view-in-github",
        "colab_type": "text"
      },
      "source": [
        "<a href=\"https://colab.research.google.com/github/ChanhooKum/SWE3032_41_AI_project/blob/main/AI_project_week1.ipynb\" target=\"_parent\"><img src=\"https://colab.research.google.com/assets/colab-badge.svg\" alt=\"Open In Colab\"/></a>"
      ]
    },
    {
      "cell_type": "markdown",
      "source": [
        "# Welcome to WEEK 1 of SWE3032\n",
        "### Tutorial using Titanic dataset\n",
        "\n",
        "This week we'll learn how to load the Titanic survivor dataset available on [Kaggle](https://www.kaggle.com/c/titanic/data) and explore the daset with visualization."
      ],
      "metadata": {
        "id": "DAWwVQX1cHRB"
      }
    },
    {
      "cell_type": "markdown",
      "source": [
        "![alt text](https://upload.wikimedia.org/wikipedia/commons/thumb/d/db/Titanic-Cobh-Harbour-1912.JPG/330px-Titanic-Cobh-Harbour-1912.JPG)"
      ],
      "metadata": {
        "id": "BicapREmb2FK"
      }
    },
    {
      "cell_type": "markdown",
      "source": [
        "https://www.kaggle.com/c/titanic/data\n",
        "\n",
        "The Challenge\n",
        "The sinking of the Titanic is one of the most infamous shipwrecks in history.\n",
        "\n",
        "On April 15, 1912, during her maiden voyage, the widely considered “unsinkable” RMS Titanic sank after colliding with an iceberg. Unfortunately, there weren’t enough lifeboats for everyone onboard, resulting in the death of 1502 out of 2224 passengers and crew.\n",
        "\n",
        "While there was some element of luck involved in surviving, it seems some groups of people were more likely to survive than others.\n",
        "\n",
        "In this challenge, we ask you to build a predictive model that answers the question: **“what sorts of people were more likely to survive?”** using passenger data (ie name, age, gender, socio-economic class, etc).\n"
      ],
      "metadata": {
        "id": "2RKOJqd5bVsc"
      }
    },
    {
      "cell_type": "markdown",
      "source": [
        "### Today's agenda\n",
        "\n",
        "1. Load datasets and packages to use\n",
        "2. Understand the datasets (# of cols & rows, type of dataset)\n",
        "3. Treat null datas\n",
        "4. Exploratory data analysis (EDA)\n",
        "5. Discover a new pattern using aggregation function"
      ],
      "metadata": {
        "id": "24MlmdpQ_oe9"
      }
    },
    {
      "cell_type": "markdown",
      "source": [
        "### 1. Load datasets and packages"
      ],
      "metadata": {
        "id": "eVGDudG-AhQC"
      }
    },
    {
      "cell_type": "code",
      "execution_count": 70,
      "metadata": {
        "id": "utvqtkHYTh1h"
      },
      "outputs": [],
      "source": [
        "# import packages\n",
        "import numpy as np\n",
        "import pandas as pd\n",
        "import matplotlib.pyplot as plt\n",
        "import seaborn as sns\n",
        "\n",
        "from google.colab import files\n",
        "import io\n",
        "import warnings\n",
        "\n",
        "warnings.filterwarnings(action='ignore')"
      ]
    },
    {
      "cell_type": "code",
      "source": [
        "# import the Titanic dataset as a training dataset\n",
        "uploaded = files.upload()\n",
        "train = pd.read_csv(io.BytesIO(uploaded['train.csv']))"
      ],
      "metadata": {
        "id": "k1zYumA_aP3E",
        "colab": {
          "base_uri": "https://localhost:8080/",
          "height": 74
        },
        "outputId": "bbbf109f-8d51-4e91-d7ee-4f18148c0e5d"
      },
      "execution_count": 71,
      "outputs": [
        {
          "output_type": "display_data",
          "data": {
            "text/plain": [
              "<IPython.core.display.HTML object>"
            ],
            "text/html": [
              "\n",
              "     <input type=\"file\" id=\"files-8fee00a6-5eb0-473c-9ae5-561175c7edcc\" name=\"files[]\" multiple disabled\n",
              "        style=\"border:none\" />\n",
              "     <output id=\"result-8fee00a6-5eb0-473c-9ae5-561175c7edcc\">\n",
              "      Upload widget is only available when the cell has been executed in the\n",
              "      current browser session. Please rerun this cell to enable.\n",
              "      </output>\n",
              "      <script>// Copyright 2017 Google LLC\n",
              "//\n",
              "// Licensed under the Apache License, Version 2.0 (the \"License\");\n",
              "// you may not use this file except in compliance with the License.\n",
              "// You may obtain a copy of the License at\n",
              "//\n",
              "//      http://www.apache.org/licenses/LICENSE-2.0\n",
              "//\n",
              "// Unless required by applicable law or agreed to in writing, software\n",
              "// distributed under the License is distributed on an \"AS IS\" BASIS,\n",
              "// WITHOUT WARRANTIES OR CONDITIONS OF ANY KIND, either express or implied.\n",
              "// See the License for the specific language governing permissions and\n",
              "// limitations under the License.\n",
              "\n",
              "/**\n",
              " * @fileoverview Helpers for google.colab Python module.\n",
              " */\n",
              "(function(scope) {\n",
              "function span(text, styleAttributes = {}) {\n",
              "  const element = document.createElement('span');\n",
              "  element.textContent = text;\n",
              "  for (const key of Object.keys(styleAttributes)) {\n",
              "    element.style[key] = styleAttributes[key];\n",
              "  }\n",
              "  return element;\n",
              "}\n",
              "\n",
              "// Max number of bytes which will be uploaded at a time.\n",
              "const MAX_PAYLOAD_SIZE = 100 * 1024;\n",
              "\n",
              "function _uploadFiles(inputId, outputId) {\n",
              "  const steps = uploadFilesStep(inputId, outputId);\n",
              "  const outputElement = document.getElementById(outputId);\n",
              "  // Cache steps on the outputElement to make it available for the next call\n",
              "  // to uploadFilesContinue from Python.\n",
              "  outputElement.steps = steps;\n",
              "\n",
              "  return _uploadFilesContinue(outputId);\n",
              "}\n",
              "\n",
              "// This is roughly an async generator (not supported in the browser yet),\n",
              "// where there are multiple asynchronous steps and the Python side is going\n",
              "// to poll for completion of each step.\n",
              "// This uses a Promise to block the python side on completion of each step,\n",
              "// then passes the result of the previous step as the input to the next step.\n",
              "function _uploadFilesContinue(outputId) {\n",
              "  const outputElement = document.getElementById(outputId);\n",
              "  const steps = outputElement.steps;\n",
              "\n",
              "  const next = steps.next(outputElement.lastPromiseValue);\n",
              "  return Promise.resolve(next.value.promise).then((value) => {\n",
              "    // Cache the last promise value to make it available to the next\n",
              "    // step of the generator.\n",
              "    outputElement.lastPromiseValue = value;\n",
              "    return next.value.response;\n",
              "  });\n",
              "}\n",
              "\n",
              "/**\n",
              " * Generator function which is called between each async step of the upload\n",
              " * process.\n",
              " * @param {string} inputId Element ID of the input file picker element.\n",
              " * @param {string} outputId Element ID of the output display.\n",
              " * @return {!Iterable<!Object>} Iterable of next steps.\n",
              " */\n",
              "function* uploadFilesStep(inputId, outputId) {\n",
              "  const inputElement = document.getElementById(inputId);\n",
              "  inputElement.disabled = false;\n",
              "\n",
              "  const outputElement = document.getElementById(outputId);\n",
              "  outputElement.innerHTML = '';\n",
              "\n",
              "  const pickedPromise = new Promise((resolve) => {\n",
              "    inputElement.addEventListener('change', (e) => {\n",
              "      resolve(e.target.files);\n",
              "    });\n",
              "  });\n",
              "\n",
              "  const cancel = document.createElement('button');\n",
              "  inputElement.parentElement.appendChild(cancel);\n",
              "  cancel.textContent = 'Cancel upload';\n",
              "  const cancelPromise = new Promise((resolve) => {\n",
              "    cancel.onclick = () => {\n",
              "      resolve(null);\n",
              "    };\n",
              "  });\n",
              "\n",
              "  // Wait for the user to pick the files.\n",
              "  const files = yield {\n",
              "    promise: Promise.race([pickedPromise, cancelPromise]),\n",
              "    response: {\n",
              "      action: 'starting',\n",
              "    }\n",
              "  };\n",
              "\n",
              "  cancel.remove();\n",
              "\n",
              "  // Disable the input element since further picks are not allowed.\n",
              "  inputElement.disabled = true;\n",
              "\n",
              "  if (!files) {\n",
              "    return {\n",
              "      response: {\n",
              "        action: 'complete',\n",
              "      }\n",
              "    };\n",
              "  }\n",
              "\n",
              "  for (const file of files) {\n",
              "    const li = document.createElement('li');\n",
              "    li.append(span(file.name, {fontWeight: 'bold'}));\n",
              "    li.append(span(\n",
              "        `(${file.type || 'n/a'}) - ${file.size} bytes, ` +\n",
              "        `last modified: ${\n",
              "            file.lastModifiedDate ? file.lastModifiedDate.toLocaleDateString() :\n",
              "                                    'n/a'} - `));\n",
              "    const percent = span('0% done');\n",
              "    li.appendChild(percent);\n",
              "\n",
              "    outputElement.appendChild(li);\n",
              "\n",
              "    const fileDataPromise = new Promise((resolve) => {\n",
              "      const reader = new FileReader();\n",
              "      reader.onload = (e) => {\n",
              "        resolve(e.target.result);\n",
              "      };\n",
              "      reader.readAsArrayBuffer(file);\n",
              "    });\n",
              "    // Wait for the data to be ready.\n",
              "    let fileData = yield {\n",
              "      promise: fileDataPromise,\n",
              "      response: {\n",
              "        action: 'continue',\n",
              "      }\n",
              "    };\n",
              "\n",
              "    // Use a chunked sending to avoid message size limits. See b/62115660.\n",
              "    let position = 0;\n",
              "    do {\n",
              "      const length = Math.min(fileData.byteLength - position, MAX_PAYLOAD_SIZE);\n",
              "      const chunk = new Uint8Array(fileData, position, length);\n",
              "      position += length;\n",
              "\n",
              "      const base64 = btoa(String.fromCharCode.apply(null, chunk));\n",
              "      yield {\n",
              "        response: {\n",
              "          action: 'append',\n",
              "          file: file.name,\n",
              "          data: base64,\n",
              "        },\n",
              "      };\n",
              "\n",
              "      let percentDone = fileData.byteLength === 0 ?\n",
              "          100 :\n",
              "          Math.round((position / fileData.byteLength) * 100);\n",
              "      percent.textContent = `${percentDone}% done`;\n",
              "\n",
              "    } while (position < fileData.byteLength);\n",
              "  }\n",
              "\n",
              "  // All done.\n",
              "  yield {\n",
              "    response: {\n",
              "      action: 'complete',\n",
              "    }\n",
              "  };\n",
              "}\n",
              "\n",
              "scope.google = scope.google || {};\n",
              "scope.google.colab = scope.google.colab || {};\n",
              "scope.google.colab._files = {\n",
              "  _uploadFiles,\n",
              "  _uploadFilesContinue,\n",
              "};\n",
              "})(self);\n",
              "</script> "
            ]
          },
          "metadata": {}
        },
        {
          "output_type": "stream",
          "name": "stdout",
          "text": [
            "Saving train.csv to train.csv\n"
          ]
        }
      ]
    },
    {
      "cell_type": "markdown",
      "source": [
        "### 2. Understand the datasets (# of cols & rows, type of dataset)"
      ],
      "metadata": {
        "id": "pkq2oJnSArDl"
      }
    },
    {
      "cell_type": "code",
      "source": [
        "train.shape"
      ],
      "metadata": {
        "id": "poqnAGVnkzS9",
        "colab": {
          "base_uri": "https://localhost:8080/"
        },
        "outputId": "681616c8-2fc1-4636-cc4f-5de16da2ec57"
      },
      "execution_count": 72,
      "outputs": [
        {
          "output_type": "execute_result",
          "data": {
            "text/plain": [
              "(891, 12)"
            ]
          },
          "metadata": {},
          "execution_count": 72
        }
      ]
    },
    {
      "cell_type": "code",
      "source": [
        "train.dtypes"
      ],
      "metadata": {
        "id": "NTsU5rqR-UjX",
        "colab": {
          "base_uri": "https://localhost:8080/"
        },
        "outputId": "248e6293-7264-4e7f-8851-a3268b8daba3"
      },
      "execution_count": 73,
      "outputs": [
        {
          "output_type": "execute_result",
          "data": {
            "text/plain": [
              "PassengerId      int64\n",
              "Survived         int64\n",
              "Pclass           int64\n",
              "Name            object\n",
              "Sex             object\n",
              "Age            float64\n",
              "SibSp            int64\n",
              "Parch            int64\n",
              "Ticket          object\n",
              "Fare           float64\n",
              "Cabin           object\n",
              "Embarked        object\n",
              "dtype: object"
            ]
          },
          "metadata": {},
          "execution_count": 73
        }
      ]
    },
    {
      "cell_type": "code",
      "source": [
        "train.head(5)"
      ],
      "metadata": {
        "id": "9y12m7-FbVcT",
        "colab": {
          "base_uri": "https://localhost:8080/",
          "height": 206
        },
        "outputId": "a9e344a7-273c-4d03-d8f0-ff3d1cea52b2"
      },
      "execution_count": 74,
      "outputs": [
        {
          "output_type": "execute_result",
          "data": {
            "text/plain": [
              "   PassengerId  Survived  Pclass  \\\n",
              "0            1         0       3   \n",
              "1            2         1       1   \n",
              "2            3         1       3   \n",
              "3            4         1       1   \n",
              "4            5         0       3   \n",
              "\n",
              "                                                Name     Sex   Age  SibSp  \\\n",
              "0                            Braund, Mr. Owen Harris    male  22.0      1   \n",
              "1  Cumings, Mrs. John Bradley (Florence Briggs Th...  female  38.0      1   \n",
              "2                             Heikkinen, Miss. Laina  female  26.0      0   \n",
              "3       Futrelle, Mrs. Jacques Heath (Lily May Peel)  female  35.0      1   \n",
              "4                           Allen, Mr. William Henry    male  35.0      0   \n",
              "\n",
              "   Parch            Ticket     Fare Cabin Embarked  \n",
              "0      0         A/5 21171   7.2500   NaN        S  \n",
              "1      0          PC 17599  71.2833   C85        C  \n",
              "2      0  STON/O2. 3101282   7.9250   NaN        S  \n",
              "3      0            113803  53.1000  C123        S  \n",
              "4      0            373450   8.0500   NaN        S  "
            ],
            "text/html": [
              "\n",
              "  <div id=\"df-2e146a77-e23c-4944-94a2-ae7926ac5f4a\" class=\"colab-df-container\">\n",
              "    <div>\n",
              "<style scoped>\n",
              "    .dataframe tbody tr th:only-of-type {\n",
              "        vertical-align: middle;\n",
              "    }\n",
              "\n",
              "    .dataframe tbody tr th {\n",
              "        vertical-align: top;\n",
              "    }\n",
              "\n",
              "    .dataframe thead th {\n",
              "        text-align: right;\n",
              "    }\n",
              "</style>\n",
              "<table border=\"1\" class=\"dataframe\">\n",
              "  <thead>\n",
              "    <tr style=\"text-align: right;\">\n",
              "      <th></th>\n",
              "      <th>PassengerId</th>\n",
              "      <th>Survived</th>\n",
              "      <th>Pclass</th>\n",
              "      <th>Name</th>\n",
              "      <th>Sex</th>\n",
              "      <th>Age</th>\n",
              "      <th>SibSp</th>\n",
              "      <th>Parch</th>\n",
              "      <th>Ticket</th>\n",
              "      <th>Fare</th>\n",
              "      <th>Cabin</th>\n",
              "      <th>Embarked</th>\n",
              "    </tr>\n",
              "  </thead>\n",
              "  <tbody>\n",
              "    <tr>\n",
              "      <th>0</th>\n",
              "      <td>1</td>\n",
              "      <td>0</td>\n",
              "      <td>3</td>\n",
              "      <td>Braund, Mr. Owen Harris</td>\n",
              "      <td>male</td>\n",
              "      <td>22.0</td>\n",
              "      <td>1</td>\n",
              "      <td>0</td>\n",
              "      <td>A/5 21171</td>\n",
              "      <td>7.2500</td>\n",
              "      <td>NaN</td>\n",
              "      <td>S</td>\n",
              "    </tr>\n",
              "    <tr>\n",
              "      <th>1</th>\n",
              "      <td>2</td>\n",
              "      <td>1</td>\n",
              "      <td>1</td>\n",
              "      <td>Cumings, Mrs. John Bradley (Florence Briggs Th...</td>\n",
              "      <td>female</td>\n",
              "      <td>38.0</td>\n",
              "      <td>1</td>\n",
              "      <td>0</td>\n",
              "      <td>PC 17599</td>\n",
              "      <td>71.2833</td>\n",
              "      <td>C85</td>\n",
              "      <td>C</td>\n",
              "    </tr>\n",
              "    <tr>\n",
              "      <th>2</th>\n",
              "      <td>3</td>\n",
              "      <td>1</td>\n",
              "      <td>3</td>\n",
              "      <td>Heikkinen, Miss. Laina</td>\n",
              "      <td>female</td>\n",
              "      <td>26.0</td>\n",
              "      <td>0</td>\n",
              "      <td>0</td>\n",
              "      <td>STON/O2. 3101282</td>\n",
              "      <td>7.9250</td>\n",
              "      <td>NaN</td>\n",
              "      <td>S</td>\n",
              "    </tr>\n",
              "    <tr>\n",
              "      <th>3</th>\n",
              "      <td>4</td>\n",
              "      <td>1</td>\n",
              "      <td>1</td>\n",
              "      <td>Futrelle, Mrs. Jacques Heath (Lily May Peel)</td>\n",
              "      <td>female</td>\n",
              "      <td>35.0</td>\n",
              "      <td>1</td>\n",
              "      <td>0</td>\n",
              "      <td>113803</td>\n",
              "      <td>53.1000</td>\n",
              "      <td>C123</td>\n",
              "      <td>S</td>\n",
              "    </tr>\n",
              "    <tr>\n",
              "      <th>4</th>\n",
              "      <td>5</td>\n",
              "      <td>0</td>\n",
              "      <td>3</td>\n",
              "      <td>Allen, Mr. William Henry</td>\n",
              "      <td>male</td>\n",
              "      <td>35.0</td>\n",
              "      <td>0</td>\n",
              "      <td>0</td>\n",
              "      <td>373450</td>\n",
              "      <td>8.0500</td>\n",
              "      <td>NaN</td>\n",
              "      <td>S</td>\n",
              "    </tr>\n",
              "  </tbody>\n",
              "</table>\n",
              "</div>\n",
              "    <div class=\"colab-df-buttons\">\n",
              "\n",
              "  <div class=\"colab-df-container\">\n",
              "    <button class=\"colab-df-convert\" onclick=\"convertToInteractive('df-2e146a77-e23c-4944-94a2-ae7926ac5f4a')\"\n",
              "            title=\"Convert this dataframe to an interactive table.\"\n",
              "            style=\"display:none;\">\n",
              "\n",
              "  <svg xmlns=\"http://www.w3.org/2000/svg\" height=\"24px\" viewBox=\"0 -960 960 960\">\n",
              "    <path d=\"M120-120v-720h720v720H120Zm60-500h600v-160H180v160Zm220 220h160v-160H400v160Zm0 220h160v-160H400v160ZM180-400h160v-160H180v160Zm440 0h160v-160H620v160ZM180-180h160v-160H180v160Zm440 0h160v-160H620v160Z\"/>\n",
              "  </svg>\n",
              "    </button>\n",
              "\n",
              "  <style>\n",
              "    .colab-df-container {\n",
              "      display:flex;\n",
              "      gap: 12px;\n",
              "    }\n",
              "\n",
              "    .colab-df-convert {\n",
              "      background-color: #E8F0FE;\n",
              "      border: none;\n",
              "      border-radius: 50%;\n",
              "      cursor: pointer;\n",
              "      display: none;\n",
              "      fill: #1967D2;\n",
              "      height: 32px;\n",
              "      padding: 0 0 0 0;\n",
              "      width: 32px;\n",
              "    }\n",
              "\n",
              "    .colab-df-convert:hover {\n",
              "      background-color: #E2EBFA;\n",
              "      box-shadow: 0px 1px 2px rgba(60, 64, 67, 0.3), 0px 1px 3px 1px rgba(60, 64, 67, 0.15);\n",
              "      fill: #174EA6;\n",
              "    }\n",
              "\n",
              "    .colab-df-buttons div {\n",
              "      margin-bottom: 4px;\n",
              "    }\n",
              "\n",
              "    [theme=dark] .colab-df-convert {\n",
              "      background-color: #3B4455;\n",
              "      fill: #D2E3FC;\n",
              "    }\n",
              "\n",
              "    [theme=dark] .colab-df-convert:hover {\n",
              "      background-color: #434B5C;\n",
              "      box-shadow: 0px 1px 3px 1px rgba(0, 0, 0, 0.15);\n",
              "      filter: drop-shadow(0px 1px 2px rgba(0, 0, 0, 0.3));\n",
              "      fill: #FFFFFF;\n",
              "    }\n",
              "  </style>\n",
              "\n",
              "    <script>\n",
              "      const buttonEl =\n",
              "        document.querySelector('#df-2e146a77-e23c-4944-94a2-ae7926ac5f4a button.colab-df-convert');\n",
              "      buttonEl.style.display =\n",
              "        google.colab.kernel.accessAllowed ? 'block' : 'none';\n",
              "\n",
              "      async function convertToInteractive(key) {\n",
              "        const element = document.querySelector('#df-2e146a77-e23c-4944-94a2-ae7926ac5f4a');\n",
              "        const dataTable =\n",
              "          await google.colab.kernel.invokeFunction('convertToInteractive',\n",
              "                                                    [key], {});\n",
              "        if (!dataTable) return;\n",
              "\n",
              "        const docLinkHtml = 'Like what you see? Visit the ' +\n",
              "          '<a target=\"_blank\" href=https://colab.research.google.com/notebooks/data_table.ipynb>data table notebook</a>'\n",
              "          + ' to learn more about interactive tables.';\n",
              "        element.innerHTML = '';\n",
              "        dataTable['output_type'] = 'display_data';\n",
              "        await google.colab.output.renderOutput(dataTable, element);\n",
              "        const docLink = document.createElement('div');\n",
              "        docLink.innerHTML = docLinkHtml;\n",
              "        element.appendChild(docLink);\n",
              "      }\n",
              "    </script>\n",
              "  </div>\n",
              "\n",
              "\n",
              "<div id=\"df-a866bc0a-e442-4f11-b054-f7ea214401a3\">\n",
              "  <button class=\"colab-df-quickchart\" onclick=\"quickchart('df-a866bc0a-e442-4f11-b054-f7ea214401a3')\"\n",
              "            title=\"Suggest charts.\"\n",
              "            style=\"display:none;\">\n",
              "\n",
              "<svg xmlns=\"http://www.w3.org/2000/svg\" height=\"24px\"viewBox=\"0 0 24 24\"\n",
              "     width=\"24px\">\n",
              "    <g>\n",
              "        <path d=\"M19 3H5c-1.1 0-2 .9-2 2v14c0 1.1.9 2 2 2h14c1.1 0 2-.9 2-2V5c0-1.1-.9-2-2-2zM9 17H7v-7h2v7zm4 0h-2V7h2v10zm4 0h-2v-4h2v4z\"/>\n",
              "    </g>\n",
              "</svg>\n",
              "  </button>\n",
              "\n",
              "<style>\n",
              "  .colab-df-quickchart {\n",
              "    background-color: #E8F0FE;\n",
              "    border: none;\n",
              "    border-radius: 50%;\n",
              "    cursor: pointer;\n",
              "    display: none;\n",
              "    fill: #1967D2;\n",
              "    height: 32px;\n",
              "    padding: 0 0 0 0;\n",
              "    width: 32px;\n",
              "  }\n",
              "\n",
              "  .colab-df-quickchart:hover {\n",
              "    background-color: #E2EBFA;\n",
              "    box-shadow: 0px 1px 2px rgba(60, 64, 67, 0.3), 0px 1px 3px 1px rgba(60, 64, 67, 0.15);\n",
              "    fill: #174EA6;\n",
              "  }\n",
              "\n",
              "  [theme=dark] .colab-df-quickchart {\n",
              "    background-color: #3B4455;\n",
              "    fill: #D2E3FC;\n",
              "  }\n",
              "\n",
              "  [theme=dark] .colab-df-quickchart:hover {\n",
              "    background-color: #434B5C;\n",
              "    box-shadow: 0px 1px 3px 1px rgba(0, 0, 0, 0.15);\n",
              "    filter: drop-shadow(0px 1px 2px rgba(0, 0, 0, 0.3));\n",
              "    fill: #FFFFFF;\n",
              "  }\n",
              "</style>\n",
              "\n",
              "  <script>\n",
              "    async function quickchart(key) {\n",
              "      const charts = await google.colab.kernel.invokeFunction(\n",
              "          'suggestCharts', [key], {});\n",
              "    }\n",
              "    (() => {\n",
              "      let quickchartButtonEl =\n",
              "        document.querySelector('#df-a866bc0a-e442-4f11-b054-f7ea214401a3 button');\n",
              "      quickchartButtonEl.style.display =\n",
              "        google.colab.kernel.accessAllowed ? 'block' : 'none';\n",
              "    })();\n",
              "  </script>\n",
              "</div>\n",
              "    </div>\n",
              "  </div>\n"
            ]
          },
          "metadata": {},
          "execution_count": 74
        }
      ]
    },
    {
      "cell_type": "markdown",
      "source": [
        "![스크린샷 2022-03-04 오후 2.36.31.png](data:image/png;base64,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)"
      ],
      "metadata": {
        "id": "CXi_EZ_pchU-"
      }
    },
    {
      "cell_type": "markdown",
      "source": [
        "### 3. Treat null datas"
      ],
      "metadata": {
        "id": "-dQAko81-Ibo"
      }
    },
    {
      "cell_type": "code",
      "source": [
        "train.isnull().sum()"
      ],
      "metadata": {
        "id": "nx5OgNZ0-YXH",
        "colab": {
          "base_uri": "https://localhost:8080/"
        },
        "outputId": "d888b762-8834-45e0-ea63-c709866d83f8"
      },
      "execution_count": 75,
      "outputs": [
        {
          "output_type": "execute_result",
          "data": {
            "text/plain": [
              "PassengerId      0\n",
              "Survived         0\n",
              "Pclass           0\n",
              "Name             0\n",
              "Sex              0\n",
              "Age            177\n",
              "SibSp            0\n",
              "Parch            0\n",
              "Ticket           0\n",
              "Fare             0\n",
              "Cabin          687\n",
              "Embarked         2\n",
              "dtype: int64"
            ]
          },
          "metadata": {},
          "execution_count": 75
        }
      ]
    },
    {
      "cell_type": "code",
      "source": [
        "# fill the nan values withs mean values.\n",
        "train['Age'].fillna(train['Age'].mean(), inplace = False)"
      ],
      "metadata": {
        "id": "C3bHqsbevK6j",
        "colab": {
          "base_uri": "https://localhost:8080/"
        },
        "outputId": "3ec05b70-3e37-4e66-907d-e2d8bc1cd8da"
      },
      "execution_count": 76,
      "outputs": [
        {
          "output_type": "execute_result",
          "data": {
            "text/plain": [
              "0      22.000000\n",
              "1      38.000000\n",
              "2      26.000000\n",
              "3      35.000000\n",
              "4      35.000000\n",
              "         ...    \n",
              "886    27.000000\n",
              "887    19.000000\n",
              "888    29.699118\n",
              "889    26.000000\n",
              "890    32.000000\n",
              "Name: Age, Length: 891, dtype: float64"
            ]
          },
          "metadata": {},
          "execution_count": 76
        }
      ]
    },
    {
      "cell_type": "code",
      "source": [
        "train.isnull().sum()\n",
        "# train['Age'] = train['Age'].fillna(train['Age'].mean(), inplace = False)"
      ],
      "metadata": {
        "id": "S-vdUtdU8NPM",
        "colab": {
          "base_uri": "https://localhost:8080/"
        },
        "outputId": "dc550abc-37f4-47dc-dcd5-3cfa4313514b"
      },
      "execution_count": 77,
      "outputs": [
        {
          "output_type": "execute_result",
          "data": {
            "text/plain": [
              "PassengerId      0\n",
              "Survived         0\n",
              "Pclass           0\n",
              "Name             0\n",
              "Sex              0\n",
              "Age            177\n",
              "SibSp            0\n",
              "Parch            0\n",
              "Ticket           0\n",
              "Fare             0\n",
              "Cabin          687\n",
              "Embarked         2\n",
              "dtype: int64"
            ]
          },
          "metadata": {},
          "execution_count": 77
        }
      ]
    },
    {
      "cell_type": "code",
      "source": [
        "# fill the nan values withs mean values.\n",
        "train['Age'].fillna(train['Age'].mean(), inplace = True)\n",
        "train['Age'].isnull().sum()"
      ],
      "metadata": {
        "id": "VnGSUxi18Fmp",
        "colab": {
          "base_uri": "https://localhost:8080/"
        },
        "outputId": "bacba738-2b04-40f0-f37b-65fece9723d5"
      },
      "execution_count": 78,
      "outputs": [
        {
          "output_type": "execute_result",
          "data": {
            "text/plain": [
              "0"
            ]
          },
          "metadata": {},
          "execution_count": 78
        }
      ]
    },
    {
      "cell_type": "code",
      "source": [
        "uploaded = files.upload()\n",
        "test = pd.read_csv(io.BytesIO(uploaded['test.csv']))\n",
        "print(test.shape)\n",
        "\n"
      ],
      "metadata": {
        "id": "OkAQvFLMqoDo",
        "colab": {
          "base_uri": "https://localhost:8080/",
          "height": 91
        },
        "outputId": "a290f2ba-bd82-49c7-bd4a-3994bdec2e07"
      },
      "execution_count": 79,
      "outputs": [
        {
          "output_type": "display_data",
          "data": {
            "text/plain": [
              "<IPython.core.display.HTML object>"
            ],
            "text/html": [
              "\n",
              "     <input type=\"file\" id=\"files-4dbc91d7-8448-4cfa-9214-d2413f80687d\" name=\"files[]\" multiple disabled\n",
              "        style=\"border:none\" />\n",
              "     <output id=\"result-4dbc91d7-8448-4cfa-9214-d2413f80687d\">\n",
              "      Upload widget is only available when the cell has been executed in the\n",
              "      current browser session. Please rerun this cell to enable.\n",
              "      </output>\n",
              "      <script>// Copyright 2017 Google LLC\n",
              "//\n",
              "// Licensed under the Apache License, Version 2.0 (the \"License\");\n",
              "// you may not use this file except in compliance with the License.\n",
              "// You may obtain a copy of the License at\n",
              "//\n",
              "//      http://www.apache.org/licenses/LICENSE-2.0\n",
              "//\n",
              "// Unless required by applicable law or agreed to in writing, software\n",
              "// distributed under the License is distributed on an \"AS IS\" BASIS,\n",
              "// WITHOUT WARRANTIES OR CONDITIONS OF ANY KIND, either express or implied.\n",
              "// See the License for the specific language governing permissions and\n",
              "// limitations under the License.\n",
              "\n",
              "/**\n",
              " * @fileoverview Helpers for google.colab Python module.\n",
              " */\n",
              "(function(scope) {\n",
              "function span(text, styleAttributes = {}) {\n",
              "  const element = document.createElement('span');\n",
              "  element.textContent = text;\n",
              "  for (const key of Object.keys(styleAttributes)) {\n",
              "    element.style[key] = styleAttributes[key];\n",
              "  }\n",
              "  return element;\n",
              "}\n",
              "\n",
              "// Max number of bytes which will be uploaded at a time.\n",
              "const MAX_PAYLOAD_SIZE = 100 * 1024;\n",
              "\n",
              "function _uploadFiles(inputId, outputId) {\n",
              "  const steps = uploadFilesStep(inputId, outputId);\n",
              "  const outputElement = document.getElementById(outputId);\n",
              "  // Cache steps on the outputElement to make it available for the next call\n",
              "  // to uploadFilesContinue from Python.\n",
              "  outputElement.steps = steps;\n",
              "\n",
              "  return _uploadFilesContinue(outputId);\n",
              "}\n",
              "\n",
              "// This is roughly an async generator (not supported in the browser yet),\n",
              "// where there are multiple asynchronous steps and the Python side is going\n",
              "// to poll for completion of each step.\n",
              "// This uses a Promise to block the python side on completion of each step,\n",
              "// then passes the result of the previous step as the input to the next step.\n",
              "function _uploadFilesContinue(outputId) {\n",
              "  const outputElement = document.getElementById(outputId);\n",
              "  const steps = outputElement.steps;\n",
              "\n",
              "  const next = steps.next(outputElement.lastPromiseValue);\n",
              "  return Promise.resolve(next.value.promise).then((value) => {\n",
              "    // Cache the last promise value to make it available to the next\n",
              "    // step of the generator.\n",
              "    outputElement.lastPromiseValue = value;\n",
              "    return next.value.response;\n",
              "  });\n",
              "}\n",
              "\n",
              "/**\n",
              " * Generator function which is called between each async step of the upload\n",
              " * process.\n",
              " * @param {string} inputId Element ID of the input file picker element.\n",
              " * @param {string} outputId Element ID of the output display.\n",
              " * @return {!Iterable<!Object>} Iterable of next steps.\n",
              " */\n",
              "function* uploadFilesStep(inputId, outputId) {\n",
              "  const inputElement = document.getElementById(inputId);\n",
              "  inputElement.disabled = false;\n",
              "\n",
              "  const outputElement = document.getElementById(outputId);\n",
              "  outputElement.innerHTML = '';\n",
              "\n",
              "  const pickedPromise = new Promise((resolve) => {\n",
              "    inputElement.addEventListener('change', (e) => {\n",
              "      resolve(e.target.files);\n",
              "    });\n",
              "  });\n",
              "\n",
              "  const cancel = document.createElement('button');\n",
              "  inputElement.parentElement.appendChild(cancel);\n",
              "  cancel.textContent = 'Cancel upload';\n",
              "  const cancelPromise = new Promise((resolve) => {\n",
              "    cancel.onclick = () => {\n",
              "      resolve(null);\n",
              "    };\n",
              "  });\n",
              "\n",
              "  // Wait for the user to pick the files.\n",
              "  const files = yield {\n",
              "    promise: Promise.race([pickedPromise, cancelPromise]),\n",
              "    response: {\n",
              "      action: 'starting',\n",
              "    }\n",
              "  };\n",
              "\n",
              "  cancel.remove();\n",
              "\n",
              "  // Disable the input element since further picks are not allowed.\n",
              "  inputElement.disabled = true;\n",
              "\n",
              "  if (!files) {\n",
              "    return {\n",
              "      response: {\n",
              "        action: 'complete',\n",
              "      }\n",
              "    };\n",
              "  }\n",
              "\n",
              "  for (const file of files) {\n",
              "    const li = document.createElement('li');\n",
              "    li.append(span(file.name, {fontWeight: 'bold'}));\n",
              "    li.append(span(\n",
              "        `(${file.type || 'n/a'}) - ${file.size} bytes, ` +\n",
              "        `last modified: ${\n",
              "            file.lastModifiedDate ? file.lastModifiedDate.toLocaleDateString() :\n",
              "                                    'n/a'} - `));\n",
              "    const percent = span('0% done');\n",
              "    li.appendChild(percent);\n",
              "\n",
              "    outputElement.appendChild(li);\n",
              "\n",
              "    const fileDataPromise = new Promise((resolve) => {\n",
              "      const reader = new FileReader();\n",
              "      reader.onload = (e) => {\n",
              "        resolve(e.target.result);\n",
              "      };\n",
              "      reader.readAsArrayBuffer(file);\n",
              "    });\n",
              "    // Wait for the data to be ready.\n",
              "    let fileData = yield {\n",
              "      promise: fileDataPromise,\n",
              "      response: {\n",
              "        action: 'continue',\n",
              "      }\n",
              "    };\n",
              "\n",
              "    // Use a chunked sending to avoid message size limits. See b/62115660.\n",
              "    let position = 0;\n",
              "    do {\n",
              "      const length = Math.min(fileData.byteLength - position, MAX_PAYLOAD_SIZE);\n",
              "      const chunk = new Uint8Array(fileData, position, length);\n",
              "      position += length;\n",
              "\n",
              "      const base64 = btoa(String.fromCharCode.apply(null, chunk));\n",
              "      yield {\n",
              "        response: {\n",
              "          action: 'append',\n",
              "          file: file.name,\n",
              "          data: base64,\n",
              "        },\n",
              "      };\n",
              "\n",
              "      let percentDone = fileData.byteLength === 0 ?\n",
              "          100 :\n",
              "          Math.round((position / fileData.byteLength) * 100);\n",
              "      percent.textContent = `${percentDone}% done`;\n",
              "\n",
              "    } while (position < fileData.byteLength);\n",
              "  }\n",
              "\n",
              "  // All done.\n",
              "  yield {\n",
              "    response: {\n",
              "      action: 'complete',\n",
              "    }\n",
              "  };\n",
              "}\n",
              "\n",
              "scope.google = scope.google || {};\n",
              "scope.google.colab = scope.google.colab || {};\n",
              "scope.google.colab._files = {\n",
              "  _uploadFiles,\n",
              "  _uploadFilesContinue,\n",
              "};\n",
              "})(self);\n",
              "</script> "
            ]
          },
          "metadata": {}
        },
        {
          "output_type": "stream",
          "name": "stdout",
          "text": [
            "Saving test.csv to test.csv\n",
            "(418, 11)\n"
          ]
        }
      ]
    },
    {
      "cell_type": "code",
      "source": [
        "test.isnull().sum()"
      ],
      "metadata": {
        "id": "Vuvd3yw_9XY9",
        "colab": {
          "base_uri": "https://localhost:8080/"
        },
        "outputId": "8b01bd53-2549-4867-a41e-f7e2074185c0"
      },
      "execution_count": 80,
      "outputs": [
        {
          "output_type": "execute_result",
          "data": {
            "text/plain": [
              "PassengerId      0\n",
              "Pclass           0\n",
              "Name             0\n",
              "Sex              0\n",
              "Age             86\n",
              "SibSp            0\n",
              "Parch            0\n",
              "Ticket           0\n",
              "Fare             1\n",
              "Cabin          327\n",
              "Embarked         0\n",
              "dtype: int64"
            ]
          },
          "metadata": {},
          "execution_count": 80
        }
      ]
    },
    {
      "cell_type": "code",
      "source": [
        "test['Age'].fillna(train['Age'].mean(), inplace = True)\n",
        "print(test['Age'].isnull().sum())"
      ],
      "metadata": {
        "id": "HlfYQt7j93Xl",
        "colab": {
          "base_uri": "https://localhost:8080/"
        },
        "outputId": "d9879f32-b15c-4f77-b977-375579737c83"
      },
      "execution_count": 81,
      "outputs": [
        {
          "output_type": "stream",
          "name": "stdout",
          "text": [
            "0\n"
          ]
        }
      ]
    },
    {
      "cell_type": "markdown",
      "source": [
        "### Problem 1 (1 point)\n",
        "#### To replace the null values of the variable Embarked , choose your own method(most frequent embarked data, or else)"
      ],
      "metadata": {
        "id": "H_QsZLdD85PC"
      }
    },
    {
      "cell_type": "code",
      "source": [
        "pd.DataFrame(train['Embarked'].value_counts())\n",
        "#pd.DataFrame(train['Embarked'].value_counts()/len(train) * 100)"
      ],
      "metadata": {
        "colab": {
          "base_uri": "https://localhost:8080/",
          "height": 143
        },
        "id": "tVmHyHR4XEu0",
        "outputId": "5c28c633-f1df-4999-89e7-8e08e59a2e91"
      },
      "execution_count": 87,
      "outputs": [
        {
          "output_type": "execute_result",
          "data": {
            "text/plain": [
              "   Embarked\n",
              "S       644\n",
              "C       168\n",
              "Q        77"
            ],
            "text/html": [
              "\n",
              "  <div id=\"df-1d90a6b0-a683-4768-a81a-a061d3286e69\" class=\"colab-df-container\">\n",
              "    <div>\n",
              "<style scoped>\n",
              "    .dataframe tbody tr th:only-of-type {\n",
              "        vertical-align: middle;\n",
              "    }\n",
              "\n",
              "    .dataframe tbody tr th {\n",
              "        vertical-align: top;\n",
              "    }\n",
              "\n",
              "    .dataframe thead th {\n",
              "        text-align: right;\n",
              "    }\n",
              "</style>\n",
              "<table border=\"1\" class=\"dataframe\">\n",
              "  <thead>\n",
              "    <tr style=\"text-align: right;\">\n",
              "      <th></th>\n",
              "      <th>Embarked</th>\n",
              "    </tr>\n",
              "  </thead>\n",
              "  <tbody>\n",
              "    <tr>\n",
              "      <th>S</th>\n",
              "      <td>644</td>\n",
              "    </tr>\n",
              "    <tr>\n",
              "      <th>C</th>\n",
              "      <td>168</td>\n",
              "    </tr>\n",
              "    <tr>\n",
              "      <th>Q</th>\n",
              "      <td>77</td>\n",
              "    </tr>\n",
              "  </tbody>\n",
              "</table>\n",
              "</div>\n",
              "    <div class=\"colab-df-buttons\">\n",
              "\n",
              "  <div class=\"colab-df-container\">\n",
              "    <button class=\"colab-df-convert\" onclick=\"convertToInteractive('df-1d90a6b0-a683-4768-a81a-a061d3286e69')\"\n",
              "            title=\"Convert this dataframe to an interactive table.\"\n",
              "            style=\"display:none;\">\n",
              "\n",
              "  <svg xmlns=\"http://www.w3.org/2000/svg\" height=\"24px\" viewBox=\"0 -960 960 960\">\n",
              "    <path d=\"M120-120v-720h720v720H120Zm60-500h600v-160H180v160Zm220 220h160v-160H400v160Zm0 220h160v-160H400v160ZM180-400h160v-160H180v160Zm440 0h160v-160H620v160ZM180-180h160v-160H180v160Zm440 0h160v-160H620v160Z\"/>\n",
              "  </svg>\n",
              "    </button>\n",
              "\n",
              "  <style>\n",
              "    .colab-df-container {\n",
              "      display:flex;\n",
              "      gap: 12px;\n",
              "    }\n",
              "\n",
              "    .colab-df-convert {\n",
              "      background-color: #E8F0FE;\n",
              "      border: none;\n",
              "      border-radius: 50%;\n",
              "      cursor: pointer;\n",
              "      display: none;\n",
              "      fill: #1967D2;\n",
              "      height: 32px;\n",
              "      padding: 0 0 0 0;\n",
              "      width: 32px;\n",
              "    }\n",
              "\n",
              "    .colab-df-convert:hover {\n",
              "      background-color: #E2EBFA;\n",
              "      box-shadow: 0px 1px 2px rgba(60, 64, 67, 0.3), 0px 1px 3px 1px rgba(60, 64, 67, 0.15);\n",
              "      fill: #174EA6;\n",
              "    }\n",
              "\n",
              "    .colab-df-buttons div {\n",
              "      margin-bottom: 4px;\n",
              "    }\n",
              "\n",
              "    [theme=dark] .colab-df-convert {\n",
              "      background-color: #3B4455;\n",
              "      fill: #D2E3FC;\n",
              "    }\n",
              "\n",
              "    [theme=dark] .colab-df-convert:hover {\n",
              "      background-color: #434B5C;\n",
              "      box-shadow: 0px 1px 3px 1px rgba(0, 0, 0, 0.15);\n",
              "      filter: drop-shadow(0px 1px 2px rgba(0, 0, 0, 0.3));\n",
              "      fill: #FFFFFF;\n",
              "    }\n",
              "  </style>\n",
              "\n",
              "    <script>\n",
              "      const buttonEl =\n",
              "        document.querySelector('#df-1d90a6b0-a683-4768-a81a-a061d3286e69 button.colab-df-convert');\n",
              "      buttonEl.style.display =\n",
              "        google.colab.kernel.accessAllowed ? 'block' : 'none';\n",
              "\n",
              "      async function convertToInteractive(key) {\n",
              "        const element = document.querySelector('#df-1d90a6b0-a683-4768-a81a-a061d3286e69');\n",
              "        const dataTable =\n",
              "          await google.colab.kernel.invokeFunction('convertToInteractive',\n",
              "                                                    [key], {});\n",
              "        if (!dataTable) return;\n",
              "\n",
              "        const docLinkHtml = 'Like what you see? Visit the ' +\n",
              "          '<a target=\"_blank\" href=https://colab.research.google.com/notebooks/data_table.ipynb>data table notebook</a>'\n",
              "          + ' to learn more about interactive tables.';\n",
              "        element.innerHTML = '';\n",
              "        dataTable['output_type'] = 'display_data';\n",
              "        await google.colab.output.renderOutput(dataTable, element);\n",
              "        const docLink = document.createElement('div');\n",
              "        docLink.innerHTML = docLinkHtml;\n",
              "        element.appendChild(docLink);\n",
              "      }\n",
              "    </script>\n",
              "  </div>\n",
              "\n",
              "    </div>\n",
              "  </div>\n"
            ]
          },
          "metadata": {},
          "execution_count": 87
        }
      ]
    },
    {
      "cell_type": "code",
      "source": [
        "# train dataset\n",
        "train['Embarked'].fillna(train['Embarked'].value_counts().idxmax(), inplace = True)\n",
        "# test dataset\n",
        "test['Embarked'].fillna(test['Embarked'].value_counts().idxmax(), inplace = True)"
      ],
      "metadata": {
        "id": "KtETst6M9vIx"
      },
      "execution_count": 89,
      "outputs": []
    },
    {
      "cell_type": "code",
      "source": [
        "print('# of NULL data of the variable Embarked in the train dataset: ', train['Embarked'].isnull().sum())\n",
        "print('# of NULL data of the variable Embarked in the test dataset: ', test['Embarked'].isnull().sum())"
      ],
      "metadata": {
        "id": "9Snt2Occ9vTL",
        "colab": {
          "base_uri": "https://localhost:8080/"
        },
        "outputId": "550d3229-883e-44d3-cffa-e3d46134fca5"
      },
      "execution_count": 90,
      "outputs": [
        {
          "output_type": "stream",
          "name": "stdout",
          "text": [
            "# of NULL data of the variable Embarked in the train dataset:  0\n",
            "# of NULL data of the variable Embarked in the test dataset:  0\n"
          ]
        }
      ]
    },
    {
      "cell_type": "markdown",
      "source": [
        "### 4. Preprocess dataset (+ indexing)"
      ],
      "metadata": {
        "id": "5ClwiUl0HiYh"
      }
    },
    {
      "cell_type": "code",
      "source": [
        "train.head(2)"
      ],
      "metadata": {
        "colab": {
          "base_uri": "https://localhost:8080/",
          "height": 112
        },
        "id": "F5uSAAbcG8Up",
        "outputId": "57f9961d-723a-4d94-ca3f-501f161d7b6c"
      },
      "execution_count": 91,
      "outputs": [
        {
          "output_type": "execute_result",
          "data": {
            "text/plain": [
              "   PassengerId  Survived  Pclass  \\\n",
              "0            1         0       3   \n",
              "1            2         1       1   \n",
              "\n",
              "                                                Name     Sex   Age  SibSp  \\\n",
              "0                            Braund, Mr. Owen Harris    male  22.0      1   \n",
              "1  Cumings, Mrs. John Bradley (Florence Briggs Th...  female  38.0      1   \n",
              "\n",
              "   Parch     Ticket     Fare Cabin Embarked  \n",
              "0      0  A/5 21171   7.2500   NaN        S  \n",
              "1      0   PC 17599  71.2833   C85        C  "
            ],
            "text/html": [
              "\n",
              "  <div id=\"df-bf8910ab-5ba7-4b18-8abc-e1584544df1a\" class=\"colab-df-container\">\n",
              "    <div>\n",
              "<style scoped>\n",
              "    .dataframe tbody tr th:only-of-type {\n",
              "        vertical-align: middle;\n",
              "    }\n",
              "\n",
              "    .dataframe tbody tr th {\n",
              "        vertical-align: top;\n",
              "    }\n",
              "\n",
              "    .dataframe thead th {\n",
              "        text-align: right;\n",
              "    }\n",
              "</style>\n",
              "<table border=\"1\" class=\"dataframe\">\n",
              "  <thead>\n",
              "    <tr style=\"text-align: right;\">\n",
              "      <th></th>\n",
              "      <th>PassengerId</th>\n",
              "      <th>Survived</th>\n",
              "      <th>Pclass</th>\n",
              "      <th>Name</th>\n",
              "      <th>Sex</th>\n",
              "      <th>Age</th>\n",
              "      <th>SibSp</th>\n",
              "      <th>Parch</th>\n",
              "      <th>Ticket</th>\n",
              "      <th>Fare</th>\n",
              "      <th>Cabin</th>\n",
              "      <th>Embarked</th>\n",
              "    </tr>\n",
              "  </thead>\n",
              "  <tbody>\n",
              "    <tr>\n",
              "      <th>0</th>\n",
              "      <td>1</td>\n",
              "      <td>0</td>\n",
              "      <td>3</td>\n",
              "      <td>Braund, Mr. Owen Harris</td>\n",
              "      <td>male</td>\n",
              "      <td>22.0</td>\n",
              "      <td>1</td>\n",
              "      <td>0</td>\n",
              "      <td>A/5 21171</td>\n",
              "      <td>7.2500</td>\n",
              "      <td>NaN</td>\n",
              "      <td>S</td>\n",
              "    </tr>\n",
              "    <tr>\n",
              "      <th>1</th>\n",
              "      <td>2</td>\n",
              "      <td>1</td>\n",
              "      <td>1</td>\n",
              "      <td>Cumings, Mrs. John Bradley (Florence Briggs Th...</td>\n",
              "      <td>female</td>\n",
              "      <td>38.0</td>\n",
              "      <td>1</td>\n",
              "      <td>0</td>\n",
              "      <td>PC 17599</td>\n",
              "      <td>71.2833</td>\n",
              "      <td>C85</td>\n",
              "      <td>C</td>\n",
              "    </tr>\n",
              "  </tbody>\n",
              "</table>\n",
              "</div>\n",
              "    <div class=\"colab-df-buttons\">\n",
              "\n",
              "  <div class=\"colab-df-container\">\n",
              "    <button class=\"colab-df-convert\" onclick=\"convertToInteractive('df-bf8910ab-5ba7-4b18-8abc-e1584544df1a')\"\n",
              "            title=\"Convert this dataframe to an interactive table.\"\n",
              "            style=\"display:none;\">\n",
              "\n",
              "  <svg xmlns=\"http://www.w3.org/2000/svg\" height=\"24px\" viewBox=\"0 -960 960 960\">\n",
              "    <path d=\"M120-120v-720h720v720H120Zm60-500h600v-160H180v160Zm220 220h160v-160H400v160Zm0 220h160v-160H400v160ZM180-400h160v-160H180v160Zm440 0h160v-160H620v160ZM180-180h160v-160H180v160Zm440 0h160v-160H620v160Z\"/>\n",
              "  </svg>\n",
              "    </button>\n",
              "\n",
              "  <style>\n",
              "    .colab-df-container {\n",
              "      display:flex;\n",
              "      gap: 12px;\n",
              "    }\n",
              "\n",
              "    .colab-df-convert {\n",
              "      background-color: #E8F0FE;\n",
              "      border: none;\n",
              "      border-radius: 50%;\n",
              "      cursor: pointer;\n",
              "      display: none;\n",
              "      fill: #1967D2;\n",
              "      height: 32px;\n",
              "      padding: 0 0 0 0;\n",
              "      width: 32px;\n",
              "    }\n",
              "\n",
              "    .colab-df-convert:hover {\n",
              "      background-color: #E2EBFA;\n",
              "      box-shadow: 0px 1px 2px rgba(60, 64, 67, 0.3), 0px 1px 3px 1px rgba(60, 64, 67, 0.15);\n",
              "      fill: #174EA6;\n",
              "    }\n",
              "\n",
              "    .colab-df-buttons div {\n",
              "      margin-bottom: 4px;\n",
              "    }\n",
              "\n",
              "    [theme=dark] .colab-df-convert {\n",
              "      background-color: #3B4455;\n",
              "      fill: #D2E3FC;\n",
              "    }\n",
              "\n",
              "    [theme=dark] .colab-df-convert:hover {\n",
              "      background-color: #434B5C;\n",
              "      box-shadow: 0px 1px 3px 1px rgba(0, 0, 0, 0.15);\n",
              "      filter: drop-shadow(0px 1px 2px rgba(0, 0, 0, 0.3));\n",
              "      fill: #FFFFFF;\n",
              "    }\n",
              "  </style>\n",
              "\n",
              "    <script>\n",
              "      const buttonEl =\n",
              "        document.querySelector('#df-bf8910ab-5ba7-4b18-8abc-e1584544df1a button.colab-df-convert');\n",
              "      buttonEl.style.display =\n",
              "        google.colab.kernel.accessAllowed ? 'block' : 'none';\n",
              "\n",
              "      async function convertToInteractive(key) {\n",
              "        const element = document.querySelector('#df-bf8910ab-5ba7-4b18-8abc-e1584544df1a');\n",
              "        const dataTable =\n",
              "          await google.colab.kernel.invokeFunction('convertToInteractive',\n",
              "                                                    [key], {});\n",
              "        if (!dataTable) return;\n",
              "\n",
              "        const docLinkHtml = 'Like what you see? Visit the ' +\n",
              "          '<a target=\"_blank\" href=https://colab.research.google.com/notebooks/data_table.ipynb>data table notebook</a>'\n",
              "          + ' to learn more about interactive tables.';\n",
              "        element.innerHTML = '';\n",
              "        dataTable['output_type'] = 'display_data';\n",
              "        await google.colab.output.renderOutput(dataTable, element);\n",
              "        const docLink = document.createElement('div');\n",
              "        docLink.innerHTML = docLinkHtml;\n",
              "        element.appendChild(docLink);\n",
              "      }\n",
              "    </script>\n",
              "  </div>\n",
              "\n",
              "    </div>\n",
              "  </div>\n"
            ]
          },
          "metadata": {},
          "execution_count": 91
        }
      ]
    },
    {
      "cell_type": "code",
      "source": [
        "print('How many male passenger were on Titanic ?')\n",
        "print(len(train.loc[train['Sex'] == 'male']))"
      ],
      "metadata": {
        "colab": {
          "base_uri": "https://localhost:8080/"
        },
        "id": "wCgTWILOFoNk",
        "outputId": "c3dd8412-040b-46b9-cb4b-017e57ac76b1"
      },
      "execution_count": 92,
      "outputs": [
        {
          "output_type": "stream",
          "name": "stdout",
          "text": [
            "How many male passenger were on Titanic ?\n",
            "577\n"
          ]
        }
      ]
    },
    {
      "cell_type": "code",
      "source": [
        "train.loc[train['Sex'] == 'male', 'Sex'] = 0\n",
        "train.loc[train['Sex'] == 'female', 'Sex'] = 1"
      ],
      "metadata": {
        "id": "HNU_9gFlHmE8"
      },
      "execution_count": 93,
      "outputs": []
    },
    {
      "cell_type": "code",
      "source": [
        "train.head(2)"
      ],
      "metadata": {
        "colab": {
          "base_uri": "https://localhost:8080/",
          "height": 112
        },
        "id": "xiaSYQ61HGti",
        "outputId": "fd1aaee4-65ae-49a7-cee8-16119a5f3414"
      },
      "execution_count": 94,
      "outputs": [
        {
          "output_type": "execute_result",
          "data": {
            "text/plain": [
              "   PassengerId  Survived  Pclass  \\\n",
              "0            1         0       3   \n",
              "1            2         1       1   \n",
              "\n",
              "                                                Name Sex   Age  SibSp  Parch  \\\n",
              "0                            Braund, Mr. Owen Harris   0  22.0      1      0   \n",
              "1  Cumings, Mrs. John Bradley (Florence Briggs Th...   1  38.0      1      0   \n",
              "\n",
              "      Ticket     Fare Cabin Embarked  \n",
              "0  A/5 21171   7.2500   NaN        S  \n",
              "1   PC 17599  71.2833   C85        C  "
            ],
            "text/html": [
              "\n",
              "  <div id=\"df-15ede0bf-eb77-456b-8fd4-c83f22d6ac09\" class=\"colab-df-container\">\n",
              "    <div>\n",
              "<style scoped>\n",
              "    .dataframe tbody tr th:only-of-type {\n",
              "        vertical-align: middle;\n",
              "    }\n",
              "\n",
              "    .dataframe tbody tr th {\n",
              "        vertical-align: top;\n",
              "    }\n",
              "\n",
              "    .dataframe thead th {\n",
              "        text-align: right;\n",
              "    }\n",
              "</style>\n",
              "<table border=\"1\" class=\"dataframe\">\n",
              "  <thead>\n",
              "    <tr style=\"text-align: right;\">\n",
              "      <th></th>\n",
              "      <th>PassengerId</th>\n",
              "      <th>Survived</th>\n",
              "      <th>Pclass</th>\n",
              "      <th>Name</th>\n",
              "      <th>Sex</th>\n",
              "      <th>Age</th>\n",
              "      <th>SibSp</th>\n",
              "      <th>Parch</th>\n",
              "      <th>Ticket</th>\n",
              "      <th>Fare</th>\n",
              "      <th>Cabin</th>\n",
              "      <th>Embarked</th>\n",
              "    </tr>\n",
              "  </thead>\n",
              "  <tbody>\n",
              "    <tr>\n",
              "      <th>0</th>\n",
              "      <td>1</td>\n",
              "      <td>0</td>\n",
              "      <td>3</td>\n",
              "      <td>Braund, Mr. Owen Harris</td>\n",
              "      <td>0</td>\n",
              "      <td>22.0</td>\n",
              "      <td>1</td>\n",
              "      <td>0</td>\n",
              "      <td>A/5 21171</td>\n",
              "      <td>7.2500</td>\n",
              "      <td>NaN</td>\n",
              "      <td>S</td>\n",
              "    </tr>\n",
              "    <tr>\n",
              "      <th>1</th>\n",
              "      <td>2</td>\n",
              "      <td>1</td>\n",
              "      <td>1</td>\n",
              "      <td>Cumings, Mrs. John Bradley (Florence Briggs Th...</td>\n",
              "      <td>1</td>\n",
              "      <td>38.0</td>\n",
              "      <td>1</td>\n",
              "      <td>0</td>\n",
              "      <td>PC 17599</td>\n",
              "      <td>71.2833</td>\n",
              "      <td>C85</td>\n",
              "      <td>C</td>\n",
              "    </tr>\n",
              "  </tbody>\n",
              "</table>\n",
              "</div>\n",
              "    <div class=\"colab-df-buttons\">\n",
              "\n",
              "  <div class=\"colab-df-container\">\n",
              "    <button class=\"colab-df-convert\" onclick=\"convertToInteractive('df-15ede0bf-eb77-456b-8fd4-c83f22d6ac09')\"\n",
              "            title=\"Convert this dataframe to an interactive table.\"\n",
              "            style=\"display:none;\">\n",
              "\n",
              "  <svg xmlns=\"http://www.w3.org/2000/svg\" height=\"24px\" viewBox=\"0 -960 960 960\">\n",
              "    <path d=\"M120-120v-720h720v720H120Zm60-500h600v-160H180v160Zm220 220h160v-160H400v160Zm0 220h160v-160H400v160ZM180-400h160v-160H180v160Zm440 0h160v-160H620v160ZM180-180h160v-160H180v160Zm440 0h160v-160H620v160Z\"/>\n",
              "  </svg>\n",
              "    </button>\n",
              "\n",
              "  <style>\n",
              "    .colab-df-container {\n",
              "      display:flex;\n",
              "      gap: 12px;\n",
              "    }\n",
              "\n",
              "    .colab-df-convert {\n",
              "      background-color: #E8F0FE;\n",
              "      border: none;\n",
              "      border-radius: 50%;\n",
              "      cursor: pointer;\n",
              "      display: none;\n",
              "      fill: #1967D2;\n",
              "      height: 32px;\n",
              "      padding: 0 0 0 0;\n",
              "      width: 32px;\n",
              "    }\n",
              "\n",
              "    .colab-df-convert:hover {\n",
              "      background-color: #E2EBFA;\n",
              "      box-shadow: 0px 1px 2px rgba(60, 64, 67, 0.3), 0px 1px 3px 1px rgba(60, 64, 67, 0.15);\n",
              "      fill: #174EA6;\n",
              "    }\n",
              "\n",
              "    .colab-df-buttons div {\n",
              "      margin-bottom: 4px;\n",
              "    }\n",
              "\n",
              "    [theme=dark] .colab-df-convert {\n",
              "      background-color: #3B4455;\n",
              "      fill: #D2E3FC;\n",
              "    }\n",
              "\n",
              "    [theme=dark] .colab-df-convert:hover {\n",
              "      background-color: #434B5C;\n",
              "      box-shadow: 0px 1px 3px 1px rgba(0, 0, 0, 0.15);\n",
              "      filter: drop-shadow(0px 1px 2px rgba(0, 0, 0, 0.3));\n",
              "      fill: #FFFFFF;\n",
              "    }\n",
              "  </style>\n",
              "\n",
              "    <script>\n",
              "      const buttonEl =\n",
              "        document.querySelector('#df-15ede0bf-eb77-456b-8fd4-c83f22d6ac09 button.colab-df-convert');\n",
              "      buttonEl.style.display =\n",
              "        google.colab.kernel.accessAllowed ? 'block' : 'none';\n",
              "\n",
              "      async function convertToInteractive(key) {\n",
              "        const element = document.querySelector('#df-15ede0bf-eb77-456b-8fd4-c83f22d6ac09');\n",
              "        const dataTable =\n",
              "          await google.colab.kernel.invokeFunction('convertToInteractive',\n",
              "                                                    [key], {});\n",
              "        if (!dataTable) return;\n",
              "\n",
              "        const docLinkHtml = 'Like what you see? Visit the ' +\n",
              "          '<a target=\"_blank\" href=https://colab.research.google.com/notebooks/data_table.ipynb>data table notebook</a>'\n",
              "          + ' to learn more about interactive tables.';\n",
              "        element.innerHTML = '';\n",
              "        dataTable['output_type'] = 'display_data';\n",
              "        await google.colab.output.renderOutput(dataTable, element);\n",
              "        const docLink = document.createElement('div');\n",
              "        docLink.innerHTML = docLinkHtml;\n",
              "        element.appendChild(docLink);\n",
              "      }\n",
              "    </script>\n",
              "  </div>\n",
              "\n",
              "    </div>\n",
              "  </div>\n"
            ]
          },
          "metadata": {},
          "execution_count": 94
        }
      ]
    },
    {
      "cell_type": "code",
      "source": [
        "train.Embarked.value_counts()"
      ],
      "metadata": {
        "colab": {
          "base_uri": "https://localhost:8080/"
        },
        "id": "y6fp8-mUIuh7",
        "outputId": "1f3aaaca-233a-49b9-dae7-e99ebf33a5e0"
      },
      "execution_count": 95,
      "outputs": [
        {
          "output_type": "execute_result",
          "data": {
            "text/plain": [
              "S    646\n",
              "C    168\n",
              "Q     77\n",
              "Name: Embarked, dtype: int64"
            ]
          },
          "metadata": {},
          "execution_count": 95
        }
      ]
    },
    {
      "cell_type": "code",
      "source": [
        "train['Embarked'] = train['Embarked'].replace({'S':0,'C': 1, 'Q':2})\n",
        "train.head(2)"
      ],
      "metadata": {
        "colab": {
          "base_uri": "https://localhost:8080/",
          "height": 112
        },
        "id": "-IVeGCzJI6GW",
        "outputId": "46ac903e-b9de-4f3a-ce3c-a64bb36ea0e8"
      },
      "execution_count": 96,
      "outputs": [
        {
          "output_type": "execute_result",
          "data": {
            "text/plain": [
              "   PassengerId  Survived  Pclass  \\\n",
              "0            1         0       3   \n",
              "1            2         1       1   \n",
              "\n",
              "                                                Name Sex   Age  SibSp  Parch  \\\n",
              "0                            Braund, Mr. Owen Harris   0  22.0      1      0   \n",
              "1  Cumings, Mrs. John Bradley (Florence Briggs Th...   1  38.0      1      0   \n",
              "\n",
              "      Ticket     Fare Cabin  Embarked  \n",
              "0  A/5 21171   7.2500   NaN         0  \n",
              "1   PC 17599  71.2833   C85         1  "
            ],
            "text/html": [
              "\n",
              "  <div id=\"df-42819a70-e22a-457f-b67c-24e8619920d1\" class=\"colab-df-container\">\n",
              "    <div>\n",
              "<style scoped>\n",
              "    .dataframe tbody tr th:only-of-type {\n",
              "        vertical-align: middle;\n",
              "    }\n",
              "\n",
              "    .dataframe tbody tr th {\n",
              "        vertical-align: top;\n",
              "    }\n",
              "\n",
              "    .dataframe thead th {\n",
              "        text-align: right;\n",
              "    }\n",
              "</style>\n",
              "<table border=\"1\" class=\"dataframe\">\n",
              "  <thead>\n",
              "    <tr style=\"text-align: right;\">\n",
              "      <th></th>\n",
              "      <th>PassengerId</th>\n",
              "      <th>Survived</th>\n",
              "      <th>Pclass</th>\n",
              "      <th>Name</th>\n",
              "      <th>Sex</th>\n",
              "      <th>Age</th>\n",
              "      <th>SibSp</th>\n",
              "      <th>Parch</th>\n",
              "      <th>Ticket</th>\n",
              "      <th>Fare</th>\n",
              "      <th>Cabin</th>\n",
              "      <th>Embarked</th>\n",
              "    </tr>\n",
              "  </thead>\n",
              "  <tbody>\n",
              "    <tr>\n",
              "      <th>0</th>\n",
              "      <td>1</td>\n",
              "      <td>0</td>\n",
              "      <td>3</td>\n",
              "      <td>Braund, Mr. Owen Harris</td>\n",
              "      <td>0</td>\n",
              "      <td>22.0</td>\n",
              "      <td>1</td>\n",
              "      <td>0</td>\n",
              "      <td>A/5 21171</td>\n",
              "      <td>7.2500</td>\n",
              "      <td>NaN</td>\n",
              "      <td>0</td>\n",
              "    </tr>\n",
              "    <tr>\n",
              "      <th>1</th>\n",
              "      <td>2</td>\n",
              "      <td>1</td>\n",
              "      <td>1</td>\n",
              "      <td>Cumings, Mrs. John Bradley (Florence Briggs Th...</td>\n",
              "      <td>1</td>\n",
              "      <td>38.0</td>\n",
              "      <td>1</td>\n",
              "      <td>0</td>\n",
              "      <td>PC 17599</td>\n",
              "      <td>71.2833</td>\n",
              "      <td>C85</td>\n",
              "      <td>1</td>\n",
              "    </tr>\n",
              "  </tbody>\n",
              "</table>\n",
              "</div>\n",
              "    <div class=\"colab-df-buttons\">\n",
              "\n",
              "  <div class=\"colab-df-container\">\n",
              "    <button class=\"colab-df-convert\" onclick=\"convertToInteractive('df-42819a70-e22a-457f-b67c-24e8619920d1')\"\n",
              "            title=\"Convert this dataframe to an interactive table.\"\n",
              "            style=\"display:none;\">\n",
              "\n",
              "  <svg xmlns=\"http://www.w3.org/2000/svg\" height=\"24px\" viewBox=\"0 -960 960 960\">\n",
              "    <path d=\"M120-120v-720h720v720H120Zm60-500h600v-160H180v160Zm220 220h160v-160H400v160Zm0 220h160v-160H400v160ZM180-400h160v-160H180v160Zm440 0h160v-160H620v160ZM180-180h160v-160H180v160Zm440 0h160v-160H620v160Z\"/>\n",
              "  </svg>\n",
              "    </button>\n",
              "\n",
              "  <style>\n",
              "    .colab-df-container {\n",
              "      display:flex;\n",
              "      gap: 12px;\n",
              "    }\n",
              "\n",
              "    .colab-df-convert {\n",
              "      background-color: #E8F0FE;\n",
              "      border: none;\n",
              "      border-radius: 50%;\n",
              "      cursor: pointer;\n",
              "      display: none;\n",
              "      fill: #1967D2;\n",
              "      height: 32px;\n",
              "      padding: 0 0 0 0;\n",
              "      width: 32px;\n",
              "    }\n",
              "\n",
              "    .colab-df-convert:hover {\n",
              "      background-color: #E2EBFA;\n",
              "      box-shadow: 0px 1px 2px rgba(60, 64, 67, 0.3), 0px 1px 3px 1px rgba(60, 64, 67, 0.15);\n",
              "      fill: #174EA6;\n",
              "    }\n",
              "\n",
              "    .colab-df-buttons div {\n",
              "      margin-bottom: 4px;\n",
              "    }\n",
              "\n",
              "    [theme=dark] .colab-df-convert {\n",
              "      background-color: #3B4455;\n",
              "      fill: #D2E3FC;\n",
              "    }\n",
              "\n",
              "    [theme=dark] .colab-df-convert:hover {\n",
              "      background-color: #434B5C;\n",
              "      box-shadow: 0px 1px 3px 1px rgba(0, 0, 0, 0.15);\n",
              "      filter: drop-shadow(0px 1px 2px rgba(0, 0, 0, 0.3));\n",
              "      fill: #FFFFFF;\n",
              "    }\n",
              "  </style>\n",
              "\n",
              "    <script>\n",
              "      const buttonEl =\n",
              "        document.querySelector('#df-42819a70-e22a-457f-b67c-24e8619920d1 button.colab-df-convert');\n",
              "      buttonEl.style.display =\n",
              "        google.colab.kernel.accessAllowed ? 'block' : 'none';\n",
              "\n",
              "      async function convertToInteractive(key) {\n",
              "        const element = document.querySelector('#df-42819a70-e22a-457f-b67c-24e8619920d1');\n",
              "        const dataTable =\n",
              "          await google.colab.kernel.invokeFunction('convertToInteractive',\n",
              "                                                    [key], {});\n",
              "        if (!dataTable) return;\n",
              "\n",
              "        const docLinkHtml = 'Like what you see? Visit the ' +\n",
              "          '<a target=\"_blank\" href=https://colab.research.google.com/notebooks/data_table.ipynb>data table notebook</a>'\n",
              "          + ' to learn more about interactive tables.';\n",
              "        element.innerHTML = '';\n",
              "        dataTable['output_type'] = 'display_data';\n",
              "        await google.colab.output.renderOutput(dataTable, element);\n",
              "        const docLink = document.createElement('div');\n",
              "        docLink.innerHTML = docLinkHtml;\n",
              "        element.appendChild(docLink);\n",
              "      }\n",
              "    </script>\n",
              "  </div>\n",
              "\n",
              "    </div>\n",
              "  </div>\n"
            ]
          },
          "metadata": {},
          "execution_count": 96
        }
      ]
    },
    {
      "cell_type": "code",
      "source": [
        "train.dtypes"
      ],
      "metadata": {
        "colab": {
          "base_uri": "https://localhost:8080/"
        },
        "id": "fh7931VrGA1V",
        "outputId": "b56549da-a555-4d75-df55-668fcd94dc09"
      },
      "execution_count": 97,
      "outputs": [
        {
          "output_type": "execute_result",
          "data": {
            "text/plain": [
              "PassengerId      int64\n",
              "Survived         int64\n",
              "Pclass           int64\n",
              "Name            object\n",
              "Sex             object\n",
              "Age            float64\n",
              "SibSp            int64\n",
              "Parch            int64\n",
              "Ticket          object\n",
              "Fare           float64\n",
              "Cabin           object\n",
              "Embarked         int64\n",
              "dtype: object"
            ]
          },
          "metadata": {},
          "execution_count": 97
        }
      ]
    },
    {
      "cell_type": "markdown",
      "source": [
        "### Problem 2 (1 point)\n",
        "How many female passenger whose age is less than 30?"
      ],
      "metadata": {
        "id": "frUF4ePtHy7H"
      }
    },
    {
      "cell_type": "code",
      "source": [
        "print(len(train.loc[(train['Sex'] == 1) & (train['Age'] < 30)]))"
      ],
      "metadata": {
        "id": "w0fM6_bLISLv",
        "colab": {
          "base_uri": "https://localhost:8080/"
        },
        "outputId": "5076e24c-42e7-4e3d-982a-7eb54cf4d468"
      },
      "execution_count": 98,
      "outputs": [
        {
          "output_type": "stream",
          "name": "stdout",
          "text": [
            "200\n"
          ]
        }
      ]
    },
    {
      "cell_type": "markdown",
      "source": [
        "### 5. Exploratory data analysis (EDA)\n",
        "Let's explore the datasets to answer some interesting questions such as which kind of people are likely to survive?"
      ],
      "metadata": {
        "id": "toWfNyloA2BL"
      }
    },
    {
      "cell_type": "code",
      "source": [
        "fig, ax = plt.subplots(1,4,figsize=(28, 7))\n",
        "sns.countplot(x=train.Survived, palette=\"Set2\", ax=ax[0])\n",
        "sns.countplot(x=train.Sex, hue=train.Survived, ax=ax[1], palette=\"Purples\")\n",
        "sns.countplot(x=train.Pclass, hue=train.Survived, ax=ax[2], palette=\"Oranges\")\n",
        "sns.countplot(x=train.Embarked, hue=train.Survived, ax=ax[3], palette=\"Oranges\")"
      ],
      "metadata": {
        "id": "UQCAx9XGPSjh",
        "colab": {
          "base_uri": "https://localhost:8080/",
          "height": 371
        },
        "outputId": "f810f579-8cbe-46df-92d6-120d00b23593"
      },
      "execution_count": 99,
      "outputs": [
        {
          "output_type": "execute_result",
          "data": {
            "text/plain": [
              "<Axes: xlabel='Embarked', ylabel='count'>"
            ]
          },
          "metadata": {},
          "execution_count": 99
        },
        {
          "output_type": "display_data",
          "data": {
            "text/plain": [
              "<Figure size 2800x700 with 4 Axes>"
            ],
            "image/png": "[encoded data removed]"
          },
          "metadata": {}
        }
      ]
    },
    {
      "cell_type": "code",
      "source": [
        "sns.boxplot(data=train, x=\"Survived\", y=\"Age\")"
      ],
      "metadata": {
        "colab": {
          "base_uri": "https://localhost:8080/",
          "height": 466
        },
        "id": "suKchxI0GM1C",
        "outputId": "43fb6dc9-e083-42b9-8c8f-87aee36609f3"
      },
      "execution_count": 100,
      "outputs": [
        {
          "output_type": "execute_result",
          "data": {
            "text/plain": [
              "<Axes: xlabel='Survived', ylabel='Age'>"
            ]
          },
          "metadata": {},
          "execution_count": 100
        },
        {
          "output_type": "display_data",
          "data": {
            "text/plain": [
              "<Figure size 640x480 with 1 Axes>"
            ],
            "image/png": "[encoded data removed]"
          },
          "metadata": {}
        }
      ]
    },
    {
      "cell_type": "code",
      "source": [
        "sns.boxplot(data=train, x=\"Survived\", y=\"Age\", hue='Sex')"
      ],
      "metadata": {
        "colab": {
          "base_uri": "https://localhost:8080/",
          "height": 466
        },
        "id": "HRtV-SDuH5Nh",
        "outputId": "06da4cad-ad3a-45ff-baf6-4ce60bf7c550"
      },
      "execution_count": 101,
      "outputs": [
        {
          "output_type": "execute_result",
          "data": {
            "text/plain": [
              "<Axes: xlabel='Survived', ylabel='Age'>"
            ]
          },
          "metadata": {},
          "execution_count": 101
        },
        {
          "output_type": "display_data",
          "data": {
            "text/plain": [
              "<Figure size 640x480 with 1 Axes>"
            ],
            "image/png": "[encoded data removed]"
          },
          "metadata": {}
        }
      ]
    },
    {
      "cell_type": "code",
      "source": [
        "train.corr()['Survived']"
      ],
      "metadata": {
        "id": "-hjjwndUk6xw",
        "colab": {
          "base_uri": "https://localhost:8080/"
        },
        "outputId": "4c354d50-e92a-4b2c-a8b7-6b89283a2ec0"
      },
      "execution_count": 102,
      "outputs": [
        {
          "output_type": "execute_result",
          "data": {
            "text/plain": [
              "PassengerId   -0.005007\n",
              "Survived       1.000000\n",
              "Pclass        -0.338481\n",
              "Age           -0.069809\n",
              "SibSp         -0.035322\n",
              "Parch          0.081629\n",
              "Fare           0.257307\n",
              "Embarked       0.106811\n",
              "Name: Survived, dtype: float64"
            ]
          },
          "metadata": {},
          "execution_count": 102
        }
      ]
    },
    {
      "cell_type": "code",
      "source": [
        "sns.heatmap(train.corr(), annot = True, cmap='Oranges')"
      ],
      "metadata": {
        "id": "O7k0YdeobFWr",
        "colab": {
          "base_uri": "https://localhost:8080/",
          "height": 522
        },
        "outputId": "4a2d2d36-35fd-4bba-8970-9f6da1181e0f"
      },
      "execution_count": 103,
      "outputs": [
        {
          "output_type": "execute_result",
          "data": {
            "text/plain": [
              "<Axes: >"
            ]
          },
          "metadata": {},
          "execution_count": 103
        },
        {
          "output_type": "display_data",
          "data": {
            "text/plain": [
              "<Figure size 640x480 with 2 Axes>"
            ],
            "image/png": "[encoded data removed]"
          },
          "metadata": {}
        }
      ]
    },
    {
      "cell_type": "markdown",
      "source": [
        "### 5. Discover a new pattern using aggregation function"
      ],
      "metadata": {
        "id": "NFvLnyI5EvRD"
      }
    },
    {
      "cell_type": "code",
      "execution_count": 104,
      "metadata": {
        "id": "xA6KNERSHsUV"
      },
      "outputs": [],
      "source": [
        "# transform numeric variable age to categorical variable\n",
        "bins = [0, 10, 20, 30, 40, 50, 60, 70, 80, 90]\n",
        "labels = ['<10', '<20', '<30', '<40', '<50', '<60', '<70', '<80', '<90']\n",
        "train['Age_cat'] = pd.cut(train['Age'], bins, right=False, labels=labels)"
      ]
    },
    {
      "cell_type": "code",
      "execution_count": 105,
      "metadata": {
        "id": "IvOLvX0qEK2o",
        "colab": {
          "base_uri": "https://localhost:8080/",
          "height": 143
        },
        "outputId": "dd49a922-c256-4e73-ecb2-0c9d74bae2b5"
      },
      "outputs": [
        {
          "output_type": "execute_result",
          "data": {
            "text/plain": [
              "Age_cat  <10  <20  <30  <40  <50  <60  <70  <80  <90\n",
              "Sex                                                 \n",
              "0         19    7   41   23   12    4    2    0    1\n",
              "1         19   34   88   50   22   16    4    0    0"
            ],
            "text/html": [
              "\n",
              "  <div id=\"df-17a39597-7f7a-4ce7-bc0f-c648c190d1f7\" class=\"colab-df-container\">\n",
              "    <div>\n",
              "<style scoped>\n",
              "    .dataframe tbody tr th:only-of-type {\n",
              "        vertical-align: middle;\n",
              "    }\n",
              "\n",
              "    .dataframe tbody tr th {\n",
              "        vertical-align: top;\n",
              "    }\n",
              "\n",
              "    .dataframe thead th {\n",
              "        text-align: right;\n",
              "    }\n",
              "</style>\n",
              "<table border=\"1\" class=\"dataframe\">\n",
              "  <thead>\n",
              "    <tr style=\"text-align: right;\">\n",
              "      <th>Age_cat</th>\n",
              "      <th>&lt;10</th>\n",
              "      <th>&lt;20</th>\n",
              "      <th>&lt;30</th>\n",
              "      <th>&lt;40</th>\n",
              "      <th>&lt;50</th>\n",
              "      <th>&lt;60</th>\n",
              "      <th>&lt;70</th>\n",
              "      <th>&lt;80</th>\n",
              "      <th>&lt;90</th>\n",
              "    </tr>\n",
              "    <tr>\n",
              "      <th>Sex</th>\n",
              "      <th></th>\n",
              "      <th></th>\n",
              "      <th></th>\n",
              "      <th></th>\n",
              "      <th></th>\n",
              "      <th></th>\n",
              "      <th></th>\n",
              "      <th></th>\n",
              "      <th></th>\n",
              "    </tr>\n",
              "  </thead>\n",
              "  <tbody>\n",
              "    <tr>\n",
              "      <th>0</th>\n",
              "      <td>19</td>\n",
              "      <td>7</td>\n",
              "      <td>41</td>\n",
              "      <td>23</td>\n",
              "      <td>12</td>\n",
              "      <td>4</td>\n",
              "      <td>2</td>\n",
              "      <td>0</td>\n",
              "      <td>1</td>\n",
              "    </tr>\n",
              "    <tr>\n",
              "      <th>1</th>\n",
              "      <td>19</td>\n",
              "      <td>34</td>\n",
              "      <td>88</td>\n",
              "      <td>50</td>\n",
              "      <td>22</td>\n",
              "      <td>16</td>\n",
              "      <td>4</td>\n",
              "      <td>0</td>\n",
              "      <td>0</td>\n",
              "    </tr>\n",
              "  </tbody>\n",
              "</table>\n",
              "</div>\n",
              "    <div class=\"colab-df-buttons\">\n",
              "\n",
              "  <div class=\"colab-df-container\">\n",
              "    <button class=\"colab-df-convert\" onclick=\"convertToInteractive('df-17a39597-7f7a-4ce7-bc0f-c648c190d1f7')\"\n",
              "            title=\"Convert this dataframe to an interactive table.\"\n",
              "            style=\"display:none;\">\n",
              "\n",
              "  <svg xmlns=\"http://www.w3.org/2000/svg\" height=\"24px\" viewBox=\"0 -960 960 960\">\n",
              "    <path d=\"M120-120v-720h720v720H120Zm60-500h600v-160H180v160Zm220 220h160v-160H400v160Zm0 220h160v-160H400v160ZM180-400h160v-160H180v160Zm440 0h160v-160H620v160ZM180-180h160v-160H180v160Zm440 0h160v-160H620v160Z\"/>\n",
              "  </svg>\n",
              "    </button>\n",
              "\n",
              "  <style>\n",
              "    .colab-df-container {\n",
              "      display:flex;\n",
              "      gap: 12px;\n",
              "    }\n",
              "\n",
              "    .colab-df-convert {\n",
              "      background-color: #E8F0FE;\n",
              "      border: none;\n",
              "      border-radius: 50%;\n",
              "      cursor: pointer;\n",
              "      display: none;\n",
              "      fill: #1967D2;\n",
              "      height: 32px;\n",
              "      padding: 0 0 0 0;\n",
              "      width: 32px;\n",
              "    }\n",
              "\n",
              "    .colab-df-convert:hover {\n",
              "      background-color: #E2EBFA;\n",
              "      box-shadow: 0px 1px 2px rgba(60, 64, 67, 0.3), 0px 1px 3px 1px rgba(60, 64, 67, 0.15);\n",
              "      fill: #174EA6;\n",
              "    }\n",
              "\n",
              "    .colab-df-buttons div {\n",
              "      margin-bottom: 4px;\n",
              "    }\n",
              "\n",
              "    [theme=dark] .colab-df-convert {\n",
              "      background-color: #3B4455;\n",
              "      fill: #D2E3FC;\n",
              "    }\n",
              "\n",
              "    [theme=dark] .colab-df-convert:hover {\n",
              "      background-color: #434B5C;\n",
              "      box-shadow: 0px 1px 3px 1px rgba(0, 0, 0, 0.15);\n",
              "      filter: drop-shadow(0px 1px 2px rgba(0, 0, 0, 0.3));\n",
              "      fill: #FFFFFF;\n",
              "    }\n",
              "  </style>\n",
              "\n",
              "    <script>\n",
              "      const buttonEl =\n",
              "        document.querySelector('#df-17a39597-7f7a-4ce7-bc0f-c648c190d1f7 button.colab-df-convert');\n",
              "      buttonEl.style.display =\n",
              "        google.colab.kernel.accessAllowed ? 'block' : 'none';\n",
              "\n",
              "      async function convertToInteractive(key) {\n",
              "        const element = document.querySelector('#df-17a39597-7f7a-4ce7-bc0f-c648c190d1f7');\n",
              "        const dataTable =\n",
              "          await google.colab.kernel.invokeFunction('convertToInteractive',\n",
              "                                                    [key], {});\n",
              "        if (!dataTable) return;\n",
              "\n",
              "        const docLinkHtml = 'Like what you see? Visit the ' +\n",
              "          '<a target=\"_blank\" href=https://colab.research.google.com/notebooks/data_table.ipynb>data table notebook</a>'\n",
              "          + ' to learn more about interactive tables.';\n",
              "        element.innerHTML = '';\n",
              "        dataTable['output_type'] = 'display_data';\n",
              "        await google.colab.output.renderOutput(dataTable, element);\n",
              "        const docLink = document.createElement('div');\n",
              "        docLink.innerHTML = docLinkHtml;\n",
              "        element.appendChild(docLink);\n",
              "      }\n",
              "    </script>\n",
              "  </div>\n",
              "\n",
              "    </div>\n",
              "  </div>\n"
            ]
          },
          "metadata": {},
          "execution_count": 105
        }
      ],
      "source": [
        "# aggregate how many survived passenger were according to sex and ages\n",
        "train.groupby(['Sex', 'Age_cat'])['Survived'].sum().unstack('Age_cat')"
      ]
    },
    {
      "cell_type": "code",
      "source": [
        "train.groupby(['Sex', 'Age_cat'])['Survived'].sum()"
      ],
      "metadata": {
        "id": "gPE-Hm4DRR8L",
        "colab": {
          "base_uri": "https://localhost:8080/"
        },
        "outputId": "bc748ffb-fc2e-4581-f15a-412dbf003ffa"
      },
      "execution_count": 106,
      "outputs": [
        {
          "output_type": "execute_result",
          "data": {
            "text/plain": [
              "Sex  Age_cat\n",
              "0    <10        19\n",
              "     <20         7\n",
              "     <30        41\n",
              "     <40        23\n",
              "     <50        12\n",
              "     <60         4\n",
              "     <70         2\n",
              "     <80         0\n",
              "     <90         1\n",
              "1    <10        19\n",
              "     <20        34\n",
              "     <30        88\n",
              "     <40        50\n",
              "     <50        22\n",
              "     <60        16\n",
              "     <70         4\n",
              "     <80         0\n",
              "     <90         0\n",
              "Name: Survived, dtype: int64"
            ]
          },
          "metadata": {},
          "execution_count": 106
        }
      ]
    },
    {
      "cell_type": "code",
      "execution_count": 107,
      "metadata": {
        "id": "V2nLxGldHM5y",
        "colab": {
          "base_uri": "https://localhost:8080/",
          "height": 143
        },
        "outputId": "f56b1ea3-5535-41e0-ee5c-b145eeb7465d"
      },
      "outputs": [
        {
          "output_type": "execute_result",
          "data": {
            "text/plain": [
              "Age_cat  <10  <20  <30  <40  <50  <60  <70  <80  <90\n",
              "Sex                                                 \n",
              "0         32   57  272  107   57   30   15    6    1\n",
              "1         30   45  125   60   32   18    4    0    0"
            ],
            "text/html": [
              "\n",
              "  <div id=\"df-abcdf7f8-ad21-4aa8-8c53-bd97441dd6dd\" class=\"colab-df-container\">\n",
              "    <div>\n",
              "<style scoped>\n",
              "    .dataframe tbody tr th:only-of-type {\n",
              "        vertical-align: middle;\n",
              "    }\n",
              "\n",
              "    .dataframe tbody tr th {\n",
              "        vertical-align: top;\n",
              "    }\n",
              "\n",
              "    .dataframe thead th {\n",
              "        text-align: right;\n",
              "    }\n",
              "</style>\n",
              "<table border=\"1\" class=\"dataframe\">\n",
              "  <thead>\n",
              "    <tr style=\"text-align: right;\">\n",
              "      <th>Age_cat</th>\n",
              "      <th>&lt;10</th>\n",
              "      <th>&lt;20</th>\n",
              "      <th>&lt;30</th>\n",
              "      <th>&lt;40</th>\n",
              "      <th>&lt;50</th>\n",
              "      <th>&lt;60</th>\n",
              "      <th>&lt;70</th>\n",
              "      <th>&lt;80</th>\n",
              "      <th>&lt;90</th>\n",
              "    </tr>\n",
              "    <tr>\n",
              "      <th>Sex</th>\n",
              "      <th></th>\n",
              "      <th></th>\n",
              "      <th></th>\n",
              "      <th></th>\n",
              "      <th></th>\n",
              "      <th></th>\n",
              "      <th></th>\n",
              "      <th></th>\n",
              "      <th></th>\n",
              "    </tr>\n",
              "  </thead>\n",
              "  <tbody>\n",
              "    <tr>\n",
              "      <th>0</th>\n",
              "      <td>32</td>\n",
              "      <td>57</td>\n",
              "      <td>272</td>\n",
              "      <td>107</td>\n",
              "      <td>57</td>\n",
              "      <td>30</td>\n",
              "      <td>15</td>\n",
              "      <td>6</td>\n",
              "      <td>1</td>\n",
              "    </tr>\n",
              "    <tr>\n",
              "      <th>1</th>\n",
              "      <td>30</td>\n",
              "      <td>45</td>\n",
              "      <td>125</td>\n",
              "      <td>60</td>\n",
              "      <td>32</td>\n",
              "      <td>18</td>\n",
              "      <td>4</td>\n",
              "      <td>0</td>\n",
              "      <td>0</td>\n",
              "    </tr>\n",
              "  </tbody>\n",
              "</table>\n",
              "</div>\n",
              "    <div class=\"colab-df-buttons\">\n",
              "\n",
              "  <div class=\"colab-df-container\">\n",
              "    <button class=\"colab-df-convert\" onclick=\"convertToInteractive('df-abcdf7f8-ad21-4aa8-8c53-bd97441dd6dd')\"\n",
              "            title=\"Convert this dataframe to an interactive table.\"\n",
              "            style=\"display:none;\">\n",
              "\n",
              "  <svg xmlns=\"http://www.w3.org/2000/svg\" height=\"24px\" viewBox=\"0 -960 960 960\">\n",
              "    <path d=\"M120-120v-720h720v720H120Zm60-500h600v-160H180v160Zm220 220h160v-160H400v160Zm0 220h160v-160H400v160ZM180-400h160v-160H180v160Zm440 0h160v-160H620v160ZM180-180h160v-160H180v160Zm440 0h160v-160H620v160Z\"/>\n",
              "  </svg>\n",
              "    </button>\n",
              "\n",
              "  <style>\n",
              "    .colab-df-container {\n",
              "      display:flex;\n",
              "      gap: 12px;\n",
              "    }\n",
              "\n",
              "    .colab-df-convert {\n",
              "      background-color: #E8F0FE;\n",
              "      border: none;\n",
              "      border-radius: 50%;\n",
              "      cursor: pointer;\n",
              "      display: none;\n",
              "      fill: #1967D2;\n",
              "      height: 32px;\n",
              "      padding: 0 0 0 0;\n",
              "      width: 32px;\n",
              "    }\n",
              "\n",
              "    .colab-df-convert:hover {\n",
              "      background-color: #E2EBFA;\n",
              "      box-shadow: 0px 1px 2px rgba(60, 64, 67, 0.3), 0px 1px 3px 1px rgba(60, 64, 67, 0.15);\n",
              "      fill: #174EA6;\n",
              "    }\n",
              "\n",
              "    .colab-df-buttons div {\n",
              "      margin-bottom: 4px;\n",
              "    }\n",
              "\n",
              "    [theme=dark] .colab-df-convert {\n",
              "      background-color: #3B4455;\n",
              "      fill: #D2E3FC;\n",
              "    }\n",
              "\n",
              "    [theme=dark] .colab-df-convert:hover {\n",
              "      background-color: #434B5C;\n",
              "      box-shadow: 0px 1px 3px 1px rgba(0, 0, 0, 0.15);\n",
              "      filter: drop-shadow(0px 1px 2px rgba(0, 0, 0, 0.3));\n",
              "      fill: #FFFFFF;\n",
              "    }\n",
              "  </style>\n",
              "\n",
              "    <script>\n",
              "      const buttonEl =\n",
              "        document.querySelector('#df-abcdf7f8-ad21-4aa8-8c53-bd97441dd6dd button.colab-df-convert');\n",
              "      buttonEl.style.display =\n",
              "        google.colab.kernel.accessAllowed ? 'block' : 'none';\n",
              "\n",
              "      async function convertToInteractive(key) {\n",
              "        const element = document.querySelector('#df-abcdf7f8-ad21-4aa8-8c53-bd97441dd6dd');\n",
              "        const dataTable =\n",
              "          await google.colab.kernel.invokeFunction('convertToInteractive',\n",
              "                                                    [key], {});\n",
              "        if (!dataTable) return;\n",
              "\n",
              "        const docLinkHtml = 'Like what you see? Visit the ' +\n",
              "          '<a target=\"_blank\" href=https://colab.research.google.com/notebooks/data_table.ipynb>data table notebook</a>'\n",
              "          + ' to learn more about interactive tables.';\n",
              "        element.innerHTML = '';\n",
              "        dataTable['output_type'] = 'display_data';\n",
              "        await google.colab.output.renderOutput(dataTable, element);\n",
              "        const docLink = document.createElement('div');\n",
              "        docLink.innerHTML = docLinkHtml;\n",
              "        element.appendChild(docLink);\n",
              "      }\n",
              "    </script>\n",
              "  </div>\n",
              "\n",
              "    </div>\n",
              "  </div>\n"
            ]
          },
          "metadata": {},
          "execution_count": 107
        }
      ],
      "source": [
        "# aggregate how many passenger were according to sex and ages\n",
        "train.groupby(['Sex', 'Age_cat'])['Survived'].count().unstack('Age_cat')"
      ]
    },
    {
      "cell_type": "code",
      "source": [
        "# aggregate how many passenger were according to sex and ages\n",
        "train.groupby(['Sex', 'Age_cat'])['Survived'].sum().unstack('Age_cat')"
      ],
      "metadata": {
        "colab": {
          "base_uri": "https://localhost:8080/",
          "height": 143
        },
        "id": "oVaAU8QeJIF7",
        "outputId": "3eb09111-f16b-478c-ffa9-bbbcbaf748be"
      },
      "execution_count": 108,
      "outputs": [
        {
          "output_type": "execute_result",
          "data": {
            "text/plain": [
              "Age_cat  <10  <20  <30  <40  <50  <60  <70  <80  <90\n",
              "Sex                                                 \n",
              "0         19    7   41   23   12    4    2    0    1\n",
              "1         19   34   88   50   22   16    4    0    0"
            ],
            "text/html": [
              "\n",
              "  <div id=\"df-c38d7c6a-44ca-4c38-a6dd-e5bc72923a5c\" class=\"colab-df-container\">\n",
              "    <div>\n",
              "<style scoped>\n",
              "    .dataframe tbody tr th:only-of-type {\n",
              "        vertical-align: middle;\n",
              "    }\n",
              "\n",
              "    .dataframe tbody tr th {\n",
              "        vertical-align: top;\n",
              "    }\n",
              "\n",
              "    .dataframe thead th {\n",
              "        text-align: right;\n",
              "    }\n",
              "</style>\n",
              "<table border=\"1\" class=\"dataframe\">\n",
              "  <thead>\n",
              "    <tr style=\"text-align: right;\">\n",
              "      <th>Age_cat</th>\n",
              "      <th>&lt;10</th>\n",
              "      <th>&lt;20</th>\n",
              "      <th>&lt;30</th>\n",
              "      <th>&lt;40</th>\n",
              "      <th>&lt;50</th>\n",
              "      <th>&lt;60</th>\n",
              "      <th>&lt;70</th>\n",
              "      <th>&lt;80</th>\n",
              "      <th>&lt;90</th>\n",
              "    </tr>\n",
              "    <tr>\n",
              "      <th>Sex</th>\n",
              "      <th></th>\n",
              "      <th></th>\n",
              "      <th></th>\n",
              "      <th></th>\n",
              "      <th></th>\n",
              "      <th></th>\n",
              "      <th></th>\n",
              "      <th></th>\n",
              "      <th></th>\n",
              "    </tr>\n",
              "  </thead>\n",
              "  <tbody>\n",
              "    <tr>\n",
              "      <th>0</th>\n",
              "      <td>19</td>\n",
              "      <td>7</td>\n",
              "      <td>41</td>\n",
              "      <td>23</td>\n",
              "      <td>12</td>\n",
              "      <td>4</td>\n",
              "      <td>2</td>\n",
              "      <td>0</td>\n",
              "      <td>1</td>\n",
              "    </tr>\n",
              "    <tr>\n",
              "      <th>1</th>\n",
              "      <td>19</td>\n",
              "      <td>34</td>\n",
              "      <td>88</td>\n",
              "      <td>50</td>\n",
              "      <td>22</td>\n",
              "      <td>16</td>\n",
              "      <td>4</td>\n",
              "      <td>0</td>\n",
              "      <td>0</td>\n",
              "    </tr>\n",
              "  </tbody>\n",
              "</table>\n",
              "</div>\n",
              "    <div class=\"colab-df-buttons\">\n",
              "\n",
              "  <div class=\"colab-df-container\">\n",
              "    <button class=\"colab-df-convert\" onclick=\"convertToInteractive('df-c38d7c6a-44ca-4c38-a6dd-e5bc72923a5c')\"\n",
              "            title=\"Convert this dataframe to an interactive table.\"\n",
              "            style=\"display:none;\">\n",
              "\n",
              "  <svg xmlns=\"http://www.w3.org/2000/svg\" height=\"24px\" viewBox=\"0 -960 960 960\">\n",
              "    <path d=\"M120-120v-720h720v720H120Zm60-500h600v-160H180v160Zm220 220h160v-160H400v160Zm0 220h160v-160H400v160ZM180-400h160v-160H180v160Zm440 0h160v-160H620v160ZM180-180h160v-160H180v160Zm440 0h160v-160H620v160Z\"/>\n",
              "  </svg>\n",
              "    </button>\n",
              "\n",
              "  <style>\n",
              "    .colab-df-container {\n",
              "      display:flex;\n",
              "      gap: 12px;\n",
              "    }\n",
              "\n",
              "    .colab-df-convert {\n",
              "      background-color: #E8F0FE;\n",
              "      border: none;\n",
              "      border-radius: 50%;\n",
              "      cursor: pointer;\n",
              "      display: none;\n",
              "      fill: #1967D2;\n",
              "      height: 32px;\n",
              "      padding: 0 0 0 0;\n",
              "      width: 32px;\n",
              "    }\n",
              "\n",
              "    .colab-df-convert:hover {\n",
              "      background-color: #E2EBFA;\n",
              "      box-shadow: 0px 1px 2px rgba(60, 64, 67, 0.3), 0px 1px 3px 1px rgba(60, 64, 67, 0.15);\n",
              "      fill: #174EA6;\n",
              "    }\n",
              "\n",
              "    .colab-df-buttons div {\n",
              "      margin-bottom: 4px;\n",
              "    }\n",
              "\n",
              "    [theme=dark] .colab-df-convert {\n",
              "      background-color: #3B4455;\n",
              "      fill: #D2E3FC;\n",
              "    }\n",
              "\n",
              "    [theme=dark] .colab-df-convert:hover {\n",
              "      background-color: #434B5C;\n",
              "      box-shadow: 0px 1px 3px 1px rgba(0, 0, 0, 0.15);\n",
              "      filter: drop-shadow(0px 1px 2px rgba(0, 0, 0, 0.3));\n",
              "      fill: #FFFFFF;\n",
              "    }\n",
              "  </style>\n",
              "\n",
              "    <script>\n",
              "      const buttonEl =\n",
              "        document.querySelector('#df-c38d7c6a-44ca-4c38-a6dd-e5bc72923a5c button.colab-df-convert');\n",
              "      buttonEl.style.display =\n",
              "        google.colab.kernel.accessAllowed ? 'block' : 'none';\n",
              "\n",
              "      async function convertToInteractive(key) {\n",
              "        const element = document.querySelector('#df-c38d7c6a-44ca-4c38-a6dd-e5bc72923a5c');\n",
              "        const dataTable =\n",
              "          await google.colab.kernel.invokeFunction('convertToInteractive',\n",
              "                                                    [key], {});\n",
              "        if (!dataTable) return;\n",
              "\n",
              "        const docLinkHtml = 'Like what you see? Visit the ' +\n",
              "          '<a target=\"_blank\" href=https://colab.research.google.com/notebooks/data_table.ipynb>data table notebook</a>'\n",
              "          + ' to learn more about interactive tables.';\n",
              "        element.innerHTML = '';\n",
              "        dataTable['output_type'] = 'display_data';\n",
              "        await google.colab.output.renderOutput(dataTable, element);\n",
              "        const docLink = document.createElement('div');\n",
              "        docLink.innerHTML = docLinkHtml;\n",
              "        element.appendChild(docLink);\n",
              "      }\n",
              "    </script>\n",
              "  </div>\n",
              "\n",
              "    </div>\n",
              "  </div>\n"
            ]
          },
          "metadata": {},
          "execution_count": 108
        }
      ]
    },
    {
      "cell_type": "code",
      "execution_count": 109,
      "metadata": {
        "id": "F5nW3Z3YHepf",
        "colab": {
          "base_uri": "https://localhost:8080/",
          "height": 143
        },
        "outputId": "34f728e8-6c2d-4db0-84d9-1163bd2cdd10"
      },
      "outputs": [
        {
          "output_type": "execute_result",
          "data": {
            "text/plain": [
              "Age_cat   <10   <20   <30   <40   <50   <60   <70  <80  <90\n",
              "Sex                                                        \n",
              "0        0.59  0.12  0.15  0.21  0.21  0.13  0.13  0.0  1.0\n",
              "1        0.63  0.76  0.70  0.83  0.69  0.89  1.00  NaN  NaN"
            ],
            "text/html": [
              "\n",
              "  <div id=\"df-01a55cfb-b869-4c0b-a665-f5b1093c600e\" class=\"colab-df-container\">\n",
              "    <div>\n",
              "<style scoped>\n",
              "    .dataframe tbody tr th:only-of-type {\n",
              "        vertical-align: middle;\n",
              "    }\n",
              "\n",
              "    .dataframe tbody tr th {\n",
              "        vertical-align: top;\n",
              "    }\n",
              "\n",
              "    .dataframe thead th {\n",
              "        text-align: right;\n",
              "    }\n",
              "</style>\n",
              "<table border=\"1\" class=\"dataframe\">\n",
              "  <thead>\n",
              "    <tr style=\"text-align: right;\">\n",
              "      <th>Age_cat</th>\n",
              "      <th>&lt;10</th>\n",
              "      <th>&lt;20</th>\n",
              "      <th>&lt;30</th>\n",
              "      <th>&lt;40</th>\n",
              "      <th>&lt;50</th>\n",
              "      <th>&lt;60</th>\n",
              "      <th>&lt;70</th>\n",
              "      <th>&lt;80</th>\n",
              "      <th>&lt;90</th>\n",
              "    </tr>\n",
              "    <tr>\n",
              "      <th>Sex</th>\n",
              "      <th></th>\n",
              "      <th></th>\n",
              "      <th></th>\n",
              "      <th></th>\n",
              "      <th></th>\n",
              "      <th></th>\n",
              "      <th></th>\n",
              "      <th></th>\n",
              "      <th></th>\n",
              "    </tr>\n",
              "  </thead>\n",
              "  <tbody>\n",
              "    <tr>\n",
              "      <th>0</th>\n",
              "      <td>0.59</td>\n",
              "      <td>0.12</td>\n",
              "      <td>0.15</td>\n",
              "      <td>0.21</td>\n",
              "      <td>0.21</td>\n",
              "      <td>0.13</td>\n",
              "      <td>0.13</td>\n",
              "      <td>0.0</td>\n",
              "      <td>1.0</td>\n",
              "    </tr>\n",
              "    <tr>\n",
              "      <th>1</th>\n",
              "      <td>0.63</td>\n",
              "      <td>0.76</td>\n",
              "      <td>0.70</td>\n",
              "      <td>0.83</td>\n",
              "      <td>0.69</td>\n",
              "      <td>0.89</td>\n",
              "      <td>1.00</td>\n",
              "      <td>NaN</td>\n",
              "      <td>NaN</td>\n",
              "    </tr>\n",
              "  </tbody>\n",
              "</table>\n",
              "</div>\n",
              "    <div class=\"colab-df-buttons\">\n",
              "\n",
              "  <div class=\"colab-df-container\">\n",
              "    <button class=\"colab-df-convert\" onclick=\"convertToInteractive('df-01a55cfb-b869-4c0b-a665-f5b1093c600e')\"\n",
              "            title=\"Convert this dataframe to an interactive table.\"\n",
              "            style=\"display:none;\">\n",
              "\n",
              "  <svg xmlns=\"http://www.w3.org/2000/svg\" height=\"24px\" viewBox=\"0 -960 960 960\">\n",
              "    <path d=\"M120-120v-720h720v720H120Zm60-500h600v-160H180v160Zm220 220h160v-160H400v160Zm0 220h160v-160H400v160ZM180-400h160v-160H180v160Zm440 0h160v-160H620v160ZM180-180h160v-160H180v160Zm440 0h160v-160H620v160Z\"/>\n",
              "  </svg>\n",
              "    </button>\n",
              "\n",
              "  <style>\n",
              "    .colab-df-container {\n",
              "      display:flex;\n",
              "      gap: 12px;\n",
              "    }\n",
              "\n",
              "    .colab-df-convert {\n",
              "      background-color: #E8F0FE;\n",
              "      border: none;\n",
              "      border-radius: 50%;\n",
              "      cursor: pointer;\n",
              "      display: none;\n",
              "      fill: #1967D2;\n",
              "      height: 32px;\n",
              "      padding: 0 0 0 0;\n",
              "      width: 32px;\n",
              "    }\n",
              "\n",
              "    .colab-df-convert:hover {\n",
              "      background-color: #E2EBFA;\n",
              "      box-shadow: 0px 1px 2px rgba(60, 64, 67, 0.3), 0px 1px 3px 1px rgba(60, 64, 67, 0.15);\n",
              "      fill: #174EA6;\n",
              "    }\n",
              "\n",
              "    .colab-df-buttons div {\n",
              "      margin-bottom: 4px;\n",
              "    }\n",
              "\n",
              "    [theme=dark] .colab-df-convert {\n",
              "      background-color: #3B4455;\n",
              "      fill: #D2E3FC;\n",
              "    }\n",
              "\n",
              "    [theme=dark] .colab-df-convert:hover {\n",
              "      background-color: #434B5C;\n",
              "      box-shadow: 0px 1px 3px 1px rgba(0, 0, 0, 0.15);\n",
              "      filter: drop-shadow(0px 1px 2px rgba(0, 0, 0, 0.3));\n",
              "      fill: #FFFFFF;\n",
              "    }\n",
              "  </style>\n",
              "\n",
              "    <script>\n",
              "      const buttonEl =\n",
              "        document.querySelector('#df-01a55cfb-b869-4c0b-a665-f5b1093c600e button.colab-df-convert');\n",
              "      buttonEl.style.display =\n",
              "        google.colab.kernel.accessAllowed ? 'block' : 'none';\n",
              "\n",
              "      async function convertToInteractive(key) {\n",
              "        const element = document.querySelector('#df-01a55cfb-b869-4c0b-a665-f5b1093c600e');\n",
              "        const dataTable =\n",
              "          await google.colab.kernel.invokeFunction('convertToInteractive',\n",
              "                                                    [key], {});\n",
              "        if (!dataTable) return;\n",
              "\n",
              "        const docLinkHtml = 'Like what you see? Visit the ' +\n",
              "          '<a target=\"_blank\" href=https://colab.research.google.com/notebooks/data_table.ipynb>data table notebook</a>'\n",
              "          + ' to learn more about interactive tables.';\n",
              "        element.innerHTML = '';\n",
              "        dataTable['output_type'] = 'display_data';\n",
              "        await google.colab.output.renderOutput(dataTable, element);\n",
              "        const docLink = document.createElement('div');\n",
              "        docLink.innerHTML = docLinkHtml;\n",
              "        element.appendChild(docLink);\n",
              "      }\n",
              "    </script>\n",
              "  </div>\n",
              "\n",
              "    </div>\n",
              "  </div>\n"
            ]
          },
          "metadata": {},
          "execution_count": 109
        }
      ],
      "source": [
        "# Ratio =  Number of survived paseengers / Number of paseengers\n",
        "round(train.groupby(['Sex', 'Age_cat'])['Survived'].sum().unstack('Age_cat')/train.groupby(['Sex', 'Age_cat'])['Survived'].count().unstack('Age_cat'), 2)"
      ]
    },
    {
      "cell_type": "code",
      "source": [
        "train['Age_<10']= np.where(train['Age'] <10, 1, 0)"
      ],
      "metadata": {
        "id": "EJl4dgiZJ08p"
      },
      "execution_count": 110,
      "outputs": []
    },
    {
      "cell_type": "code",
      "source": [
        "train.corr()['Survived']"
      ],
      "metadata": {
        "colab": {
          "base_uri": "https://localhost:8080/"
        },
        "id": "MV8CloWgKZt8",
        "outputId": "ebda7770-507e-4ec4-c882-4dcafd51b79e"
      },
      "execution_count": 111,
      "outputs": [
        {
          "output_type": "execute_result",
          "data": {
            "text/plain": [
              "PassengerId   -0.005007\n",
              "Survived       1.000000\n",
              "Pclass        -0.338481\n",
              "Age           -0.069809\n",
              "SibSp         -0.035322\n",
              "Parch          0.081629\n",
              "Fare           0.257307\n",
              "Embarked       0.106811\n",
              "Age_<10        0.128812\n",
              "Name: Survived, dtype: float64"
            ]
          },
          "metadata": {},
          "execution_count": 111
        }
      ]
    }
  ]
}